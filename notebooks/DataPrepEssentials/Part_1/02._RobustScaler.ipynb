{
 "cells": [
  {
   "cell_type": "markdown",
   "metadata": {},
   "source": [
    "# Scaling Data Using RobustScaler"
   ]
  },
  {
   "cell_type": "code",
   "execution_count": 1,
   "metadata": {},
   "outputs": [],
   "source": [
    "import pandas as pd\n",
    "import numpy as np\n",
    "import matplotlib.pyplot as plt\n",
    "\n",
    "import math\n",
    "\n",
    "from sklearn.preprocessing import StandardScaler, scale, RobustScaler, robust_scale"
   ]
  },
  {
   "cell_type": "code",
   "execution_count": 44,
   "metadata": {},
   "outputs": [
    {
     "data": {
      "text/html": [
       "<div>\n",
       "<style scoped>\n",
       "    .dataframe tbody tr th:only-of-type {\n",
       "        vertical-align: middle;\n",
       "    }\n",
       "\n",
       "    .dataframe tbody tr th {\n",
       "        vertical-align: top;\n",
       "    }\n",
       "\n",
       "    .dataframe thead th {\n",
       "        text-align: right;\n",
       "    }\n",
       "</style>\n",
       "<table border=\"1\" class=\"dataframe\">\n",
       "  <thead>\n",
       "    <tr style=\"text-align: right;\">\n",
       "      <th></th>\n",
       "      <th>Name</th>\n",
       "      <th>Occupation</th>\n",
       "      <th>Age</th>\n",
       "    </tr>\n",
       "  </thead>\n",
       "  <tbody>\n",
       "    <tr>\n",
       "      <td>0</td>\n",
       "      <td>Dennis</td>\n",
       "      <td>Doctor</td>\n",
       "      <td>30</td>\n",
       "    </tr>\n",
       "    <tr>\n",
       "      <td>1</td>\n",
       "      <td>Greg</td>\n",
       "      <td>Lawyer</td>\n",
       "      <td>32</td>\n",
       "    </tr>\n",
       "    <tr>\n",
       "      <td>2</td>\n",
       "      <td>Susie</td>\n",
       "      <td>Teacher</td>\n",
       "      <td>35</td>\n",
       "    </tr>\n",
       "    <tr>\n",
       "      <td>3</td>\n",
       "      <td>Lauren</td>\n",
       "      <td>Mechanic</td>\n",
       "      <td>38</td>\n",
       "    </tr>\n",
       "    <tr>\n",
       "      <td>4</td>\n",
       "      <td>Harry</td>\n",
       "      <td>Waiter</td>\n",
       "      <td>25</td>\n",
       "    </tr>\n",
       "  </tbody>\n",
       "</table>\n",
       "</div>"
      ],
      "text/plain": [
       "     Name Occupation  Age\n",
       "0  Dennis     Doctor   30\n",
       "1    Greg     Lawyer   32\n",
       "2   Susie    Teacher   35\n",
       "3  Lauren   Mechanic   38\n",
       "4   Harry     Waiter   25"
      ]
     },
     "execution_count": 44,
     "metadata": {},
     "output_type": "execute_result"
    }
   ],
   "source": [
    "toy_df = pd.DataFrame({\n",
    "    \n",
    "    \"Name\" : [\"Dennis\", \"Greg\", \"Susie\", \"Lauren\", \"Harry\"],\n",
    "    \"Occupation\" : [\"Doctor\", \"Lawyer\", \"Teacher\", \"Mechanic\", \"Waiter\"],\n",
    "    \"Age\" : [30, 32, 35, 38, 25]\n",
    "    \n",
    "})\n",
    "\n",
    "toy_df"
   ]
  },
  {
   "cell_type": "code",
   "execution_count": 29,
   "metadata": {},
   "outputs": [
    {
     "data": {
      "text/html": [
       "<div>\n",
       "<style scoped>\n",
       "    .dataframe tbody tr th:only-of-type {\n",
       "        vertical-align: middle;\n",
       "    }\n",
       "\n",
       "    .dataframe tbody tr th {\n",
       "        vertical-align: top;\n",
       "    }\n",
       "\n",
       "    .dataframe thead th {\n",
       "        text-align: right;\n",
       "    }\n",
       "</style>\n",
       "<table border=\"1\" class=\"dataframe\">\n",
       "  <thead>\n",
       "    <tr style=\"text-align: right;\">\n",
       "      <th></th>\n",
       "      <th>Age</th>\n",
       "    </tr>\n",
       "  </thead>\n",
       "  <tbody>\n",
       "    <tr>\n",
       "      <td>count</td>\n",
       "      <td>5.000000</td>\n",
       "    </tr>\n",
       "    <tr>\n",
       "      <td>mean</td>\n",
       "      <td>32.000000</td>\n",
       "    </tr>\n",
       "    <tr>\n",
       "      <td>std</td>\n",
       "      <td>4.949747</td>\n",
       "    </tr>\n",
       "    <tr>\n",
       "      <td>min</td>\n",
       "      <td>25.000000</td>\n",
       "    </tr>\n",
       "    <tr>\n",
       "      <td>25%</td>\n",
       "      <td>30.000000</td>\n",
       "    </tr>\n",
       "    <tr>\n",
       "      <td>50%</td>\n",
       "      <td>32.000000</td>\n",
       "    </tr>\n",
       "    <tr>\n",
       "      <td>75%</td>\n",
       "      <td>35.000000</td>\n",
       "    </tr>\n",
       "    <tr>\n",
       "      <td>max</td>\n",
       "      <td>38.000000</td>\n",
       "    </tr>\n",
       "  </tbody>\n",
       "</table>\n",
       "</div>"
      ],
      "text/plain": [
       "             Age\n",
       "count   5.000000\n",
       "mean   32.000000\n",
       "std     4.949747\n",
       "min    25.000000\n",
       "25%    30.000000\n",
       "50%    32.000000\n",
       "75%    35.000000\n",
       "max    38.000000"
      ]
     },
     "execution_count": 29,
     "metadata": {},
     "output_type": "execute_result"
    }
   ],
   "source": [
    "toy_df.describe()"
   ]
  },
  {
   "cell_type": "code",
   "execution_count": 30,
   "metadata": {},
   "outputs": [
    {
     "data": {
      "text/html": [
       "<div>\n",
       "<style scoped>\n",
       "    .dataframe tbody tr th:only-of-type {\n",
       "        vertical-align: middle;\n",
       "    }\n",
       "\n",
       "    .dataframe tbody tr th {\n",
       "        vertical-align: top;\n",
       "    }\n",
       "\n",
       "    .dataframe thead th {\n",
       "        text-align: right;\n",
       "    }\n",
       "</style>\n",
       "<table border=\"1\" class=\"dataframe\">\n",
       "  <thead>\n",
       "    <tr style=\"text-align: right;\">\n",
       "      <th></th>\n",
       "      <th>Name</th>\n",
       "      <th>Occupation</th>\n",
       "      <th>Age</th>\n",
       "      <th>Scaled_Age</th>\n",
       "    </tr>\n",
       "  </thead>\n",
       "  <tbody>\n",
       "    <tr>\n",
       "      <td>0</td>\n",
       "      <td>Dennis</td>\n",
       "      <td>Doctor</td>\n",
       "      <td>30.0</td>\n",
       "      <td>-0.451754</td>\n",
       "    </tr>\n",
       "    <tr>\n",
       "      <td>1</td>\n",
       "      <td>Greg</td>\n",
       "      <td>Lawyer</td>\n",
       "      <td>32.0</td>\n",
       "      <td>0.000000</td>\n",
       "    </tr>\n",
       "    <tr>\n",
       "      <td>2</td>\n",
       "      <td>Susie</td>\n",
       "      <td>Teacher</td>\n",
       "      <td>35.0</td>\n",
       "      <td>0.677631</td>\n",
       "    </tr>\n",
       "    <tr>\n",
       "      <td>3</td>\n",
       "      <td>Lauren</td>\n",
       "      <td>Mechanic</td>\n",
       "      <td>38.0</td>\n",
       "      <td>1.355262</td>\n",
       "    </tr>\n",
       "    <tr>\n",
       "      <td>4</td>\n",
       "      <td>Harry</td>\n",
       "      <td>Waiter</td>\n",
       "      <td>25.0</td>\n",
       "      <td>-1.581139</td>\n",
       "    </tr>\n",
       "  </tbody>\n",
       "</table>\n",
       "</div>"
      ],
      "text/plain": [
       "     Name Occupation   Age  Scaled_Age\n",
       "0  Dennis     Doctor  30.0   -0.451754\n",
       "1    Greg     Lawyer  32.0    0.000000\n",
       "2   Susie    Teacher  35.0    0.677631\n",
       "3  Lauren   Mechanic  38.0    1.355262\n",
       "4   Harry     Waiter  25.0   -1.581139"
      ]
     },
     "execution_count": 30,
     "metadata": {},
     "output_type": "execute_result"
    }
   ],
   "source": [
    "toy_df[\"Age\"] = toy_df[\"Age\"].astype(np.float32)\n",
    "\n",
    "toy_df[\"Scaled_Age\"] = scale(toy_df[\"Age\"])\n",
    "\n",
    "toy_df"
   ]
  },
  {
   "cell_type": "markdown",
   "metadata": {},
   "source": [
    "### Manually calculate the robust scaled values"
   ]
  },
  {
   "cell_type": "code",
   "execution_count": 31,
   "metadata": {},
   "outputs": [],
   "source": [
    "def robust_scale_manual(x, median, q25, q75):\n",
    "    \n",
    "    scaled = (x - median) / (q75 - q25)\n",
    "    \n",
    "    return scaled"
   ]
  },
  {
   "cell_type": "code",
   "execution_count": 32,
   "metadata": {},
   "outputs": [],
   "source": [
    "median = toy_df[\"Age\"].median()\n",
    "\n",
    "q25 = toy_df[\"Age\"].quantile(q = 0.25)\n",
    "\n",
    "q75 = toy_df[\"Age\"].quantile(q = 0.75)"
   ]
  },
  {
   "cell_type": "code",
   "execution_count": 33,
   "metadata": {},
   "outputs": [
    {
     "data": {
      "text/html": [
       "<div>\n",
       "<style scoped>\n",
       "    .dataframe tbody tr th:only-of-type {\n",
       "        vertical-align: middle;\n",
       "    }\n",
       "\n",
       "    .dataframe tbody tr th {\n",
       "        vertical-align: top;\n",
       "    }\n",
       "\n",
       "    .dataframe thead th {\n",
       "        text-align: right;\n",
       "    }\n",
       "</style>\n",
       "<table border=\"1\" class=\"dataframe\">\n",
       "  <thead>\n",
       "    <tr style=\"text-align: right;\">\n",
       "      <th></th>\n",
       "      <th>Name</th>\n",
       "      <th>Occupation</th>\n",
       "      <th>Age</th>\n",
       "      <th>Scaled_Age</th>\n",
       "      <th>Robust_Scaled_Age</th>\n",
       "    </tr>\n",
       "  </thead>\n",
       "  <tbody>\n",
       "    <tr>\n",
       "      <td>0</td>\n",
       "      <td>Dennis</td>\n",
       "      <td>Doctor</td>\n",
       "      <td>30.0</td>\n",
       "      <td>-0.451754</td>\n",
       "      <td>-0.4</td>\n",
       "    </tr>\n",
       "    <tr>\n",
       "      <td>1</td>\n",
       "      <td>Greg</td>\n",
       "      <td>Lawyer</td>\n",
       "      <td>32.0</td>\n",
       "      <td>0.000000</td>\n",
       "      <td>0.0</td>\n",
       "    </tr>\n",
       "    <tr>\n",
       "      <td>2</td>\n",
       "      <td>Susie</td>\n",
       "      <td>Teacher</td>\n",
       "      <td>35.0</td>\n",
       "      <td>0.677631</td>\n",
       "      <td>0.6</td>\n",
       "    </tr>\n",
       "    <tr>\n",
       "      <td>3</td>\n",
       "      <td>Lauren</td>\n",
       "      <td>Mechanic</td>\n",
       "      <td>38.0</td>\n",
       "      <td>1.355262</td>\n",
       "      <td>1.2</td>\n",
       "    </tr>\n",
       "    <tr>\n",
       "      <td>4</td>\n",
       "      <td>Harry</td>\n",
       "      <td>Waiter</td>\n",
       "      <td>25.0</td>\n",
       "      <td>-1.581139</td>\n",
       "      <td>-1.4</td>\n",
       "    </tr>\n",
       "  </tbody>\n",
       "</table>\n",
       "</div>"
      ],
      "text/plain": [
       "     Name Occupation   Age  Scaled_Age  Robust_Scaled_Age\n",
       "0  Dennis     Doctor  30.0   -0.451754               -0.4\n",
       "1    Greg     Lawyer  32.0    0.000000                0.0\n",
       "2   Susie    Teacher  35.0    0.677631                0.6\n",
       "3  Lauren   Mechanic  38.0    1.355262                1.2\n",
       "4   Harry     Waiter  25.0   -1.581139               -1.4"
      ]
     },
     "execution_count": 33,
     "metadata": {},
     "output_type": "execute_result"
    }
   ],
   "source": [
    "toy_df['Robust_Scaled_Age'] = toy_df['Age']. \\\n",
    "    apply(lambda x : robust_scale_manual(x, median, q25, q75))\n",
    "\n",
    "toy_df"
   ]
  },
  {
   "cell_type": "markdown",
   "metadata": {},
   "source": [
    "### Append a new value which is much larger than other values in the data"
   ]
  },
  {
   "cell_type": "code",
   "execution_count": 36,
   "metadata": {},
   "outputs": [
    {
     "data": {
      "text/html": [
       "<div>\n",
       "<style scoped>\n",
       "    .dataframe tbody tr th:only-of-type {\n",
       "        vertical-align: middle;\n",
       "    }\n",
       "\n",
       "    .dataframe tbody tr th {\n",
       "        vertical-align: top;\n",
       "    }\n",
       "\n",
       "    .dataframe thead th {\n",
       "        text-align: right;\n",
       "    }\n",
       "</style>\n",
       "<table border=\"1\" class=\"dataframe\">\n",
       "  <thead>\n",
       "    <tr style=\"text-align: right;\">\n",
       "      <th></th>\n",
       "      <th>Name</th>\n",
       "      <th>Occupation</th>\n",
       "      <th>Age</th>\n",
       "    </tr>\n",
       "  </thead>\n",
       "  <tbody>\n",
       "    <tr>\n",
       "      <td>0</td>\n",
       "      <td>John</td>\n",
       "      <td>Retired</td>\n",
       "      <td>85</td>\n",
       "    </tr>\n",
       "  </tbody>\n",
       "</table>\n",
       "</div>"
      ],
      "text/plain": [
       "   Name Occupation  Age\n",
       "0  John    Retired   85"
      ]
     },
     "execution_count": 36,
     "metadata": {},
     "output_type": "execute_result"
    }
   ],
   "source": [
    "new_df = pd.DataFrame({\n",
    "    \n",
    "    \"Name\" : [\"John\"],\n",
    "    \"Occupation\" : [\"Retired\"],\n",
    "    \"Age\" : [85]\n",
    "    \n",
    "})\n",
    "\n",
    "new_df"
   ]
  },
  {
   "cell_type": "markdown",
   "metadata": {},
   "source": [
    "### The mean is very sensitive to the presence of outliers\n",
    "\n",
    "- Observe that the mean has changed from ~32 to almost ~40\n",
    "- The median has only moved a little, from ~32 to ~33"
   ]
  },
  {
   "cell_type": "code",
   "execution_count": 60,
   "metadata": {},
   "outputs": [
    {
     "data": {
      "text/html": [
       "<div>\n",
       "<style scoped>\n",
       "    .dataframe tbody tr th:only-of-type {\n",
       "        vertical-align: middle;\n",
       "    }\n",
       "\n",
       "    .dataframe tbody tr th {\n",
       "        vertical-align: top;\n",
       "    }\n",
       "\n",
       "    .dataframe thead th {\n",
       "        text-align: right;\n",
       "    }\n",
       "</style>\n",
       "<table border=\"1\" class=\"dataframe\">\n",
       "  <thead>\n",
       "    <tr style=\"text-align: right;\">\n",
       "      <th></th>\n",
       "      <th>Age</th>\n",
       "    </tr>\n",
       "  </thead>\n",
       "  <tbody>\n",
       "    <tr>\n",
       "      <td>count</td>\n",
       "      <td>7.000000</td>\n",
       "    </tr>\n",
       "    <tr>\n",
       "      <td>mean</td>\n",
       "      <td>47.142857</td>\n",
       "    </tr>\n",
       "    <tr>\n",
       "      <td>std</td>\n",
       "      <td>26.175234</td>\n",
       "    </tr>\n",
       "    <tr>\n",
       "      <td>min</td>\n",
       "      <td>25.000000</td>\n",
       "    </tr>\n",
       "    <tr>\n",
       "      <td>25%</td>\n",
       "      <td>31.000000</td>\n",
       "    </tr>\n",
       "    <tr>\n",
       "      <td>50%</td>\n",
       "      <td>35.000000</td>\n",
       "    </tr>\n",
       "    <tr>\n",
       "      <td>75%</td>\n",
       "      <td>61.500000</td>\n",
       "    </tr>\n",
       "    <tr>\n",
       "      <td>max</td>\n",
       "      <td>85.000000</td>\n",
       "    </tr>\n",
       "  </tbody>\n",
       "</table>\n",
       "</div>"
      ],
      "text/plain": [
       "             Age\n",
       "count   7.000000\n",
       "mean   47.142857\n",
       "std    26.175234\n",
       "min    25.000000\n",
       "25%    31.000000\n",
       "50%    35.000000\n",
       "75%    61.500000\n",
       "max    85.000000"
      ]
     },
     "execution_count": 60,
     "metadata": {},
     "output_type": "execute_result"
    }
   ],
   "source": [
    "toy_df = toy_df.append(new_df, sort = False)\n",
    "\n",
    "toy_df[\"Scaled_Age\"] = scale(toy_df[\"Age\"])\n",
    "\n",
    "toy_df[[\"Age\"]].describe()"
   ]
  },
  {
   "cell_type": "code",
   "execution_count": 61,
   "metadata": {},
   "outputs": [],
   "source": [
    "median = toy_df[\"Age\"].median()\n",
    "\n",
    "q25 = toy_df[\"Age\"].quantile(q = 0.25)\n",
    "\n",
    "q75 = toy_df[\"Age\"].quantile(q = 0.75)\n",
    "\n",
    "toy_df['Robust_Scaled_Age'] = toy_df['Age']. \\\n",
    "    apply(lambda x : robust_scale_manual(x, median, q25, q75))"
   ]
  },
  {
   "cell_type": "code",
   "execution_count": 62,
   "metadata": {},
   "outputs": [
    {
     "data": {
      "text/html": [
       "<div>\n",
       "<style scoped>\n",
       "    .dataframe tbody tr th:only-of-type {\n",
       "        vertical-align: middle;\n",
       "    }\n",
       "\n",
       "    .dataframe tbody tr th {\n",
       "        vertical-align: top;\n",
       "    }\n",
       "\n",
       "    .dataframe thead th {\n",
       "        text-align: right;\n",
       "    }\n",
       "</style>\n",
       "<table border=\"1\" class=\"dataframe\">\n",
       "  <thead>\n",
       "    <tr style=\"text-align: right;\">\n",
       "      <th></th>\n",
       "      <th>Name</th>\n",
       "      <th>Occupation</th>\n",
       "      <th>Age</th>\n",
       "      <th>Scaled_Age</th>\n",
       "      <th>Robust_Scaled_Age</th>\n",
       "    </tr>\n",
       "  </thead>\n",
       "  <tbody>\n",
       "    <tr>\n",
       "      <td>0</td>\n",
       "      <td>Dennis</td>\n",
       "      <td>Doctor</td>\n",
       "      <td>30</td>\n",
       "      <td>-0.707402</td>\n",
       "      <td>-0.163934</td>\n",
       "    </tr>\n",
       "    <tr>\n",
       "      <td>1</td>\n",
       "      <td>Greg</td>\n",
       "      <td>Lawyer</td>\n",
       "      <td>32</td>\n",
       "      <td>-0.624871</td>\n",
       "      <td>-0.098361</td>\n",
       "    </tr>\n",
       "    <tr>\n",
       "      <td>2</td>\n",
       "      <td>Susie</td>\n",
       "      <td>Teacher</td>\n",
       "      <td>35</td>\n",
       "      <td>-0.501076</td>\n",
       "      <td>0.000000</td>\n",
       "    </tr>\n",
       "    <tr>\n",
       "      <td>3</td>\n",
       "      <td>Lauren</td>\n",
       "      <td>Mechanic</td>\n",
       "      <td>38</td>\n",
       "      <td>-0.377281</td>\n",
       "      <td>0.098361</td>\n",
       "    </tr>\n",
       "    <tr>\n",
       "      <td>4</td>\n",
       "      <td>Harry</td>\n",
       "      <td>Waiter</td>\n",
       "      <td>25</td>\n",
       "      <td>-0.913727</td>\n",
       "      <td>-0.327869</td>\n",
       "    </tr>\n",
       "    <tr>\n",
       "      <td>0</td>\n",
       "      <td>John</td>\n",
       "      <td>Retired</td>\n",
       "      <td>85</td>\n",
       "      <td>1.562179</td>\n",
       "      <td>1.639344</td>\n",
       "    </tr>\n",
       "    <tr>\n",
       "      <td>0</td>\n",
       "      <td>John</td>\n",
       "      <td>Retired</td>\n",
       "      <td>85</td>\n",
       "      <td>1.562179</td>\n",
       "      <td>1.639344</td>\n",
       "    </tr>\n",
       "  </tbody>\n",
       "</table>\n",
       "</div>"
      ],
      "text/plain": [
       "     Name Occupation  Age  Scaled_Age  Robust_Scaled_Age\n",
       "0  Dennis     Doctor   30   -0.707402          -0.163934\n",
       "1    Greg     Lawyer   32   -0.624871          -0.098361\n",
       "2   Susie    Teacher   35   -0.501076           0.000000\n",
       "3  Lauren   Mechanic   38   -0.377281           0.098361\n",
       "4   Harry     Waiter   25   -0.913727          -0.327869\n",
       "0    John    Retired   85    1.562179           1.639344\n",
       "0    John    Retired   85    1.562179           1.639344"
      ]
     },
     "execution_count": 62,
     "metadata": {},
     "output_type": "execute_result"
    }
   ],
   "source": [
    "toy_df"
   ]
  },
  {
   "cell_type": "code",
   "execution_count": 66,
   "metadata": {},
   "outputs": [
    {
     "data": {
      "text/html": [
       "<div>\n",
       "<style scoped>\n",
       "    .dataframe tbody tr th:only-of-type {\n",
       "        vertical-align: middle;\n",
       "    }\n",
       "\n",
       "    .dataframe tbody tr th {\n",
       "        vertical-align: top;\n",
       "    }\n",
       "\n",
       "    .dataframe thead th {\n",
       "        text-align: right;\n",
       "    }\n",
       "</style>\n",
       "<table border=\"1\" class=\"dataframe\">\n",
       "  <thead>\n",
       "    <tr style=\"text-align: right;\">\n",
       "      <th></th>\n",
       "      <th>house_age</th>\n",
       "      <th>Distance_to_MRT_Station</th>\n",
       "      <th>no_of_convenient_stores</th>\n",
       "      <th>house_price</th>\n",
       "    </tr>\n",
       "  </thead>\n",
       "  <tbody>\n",
       "    <tr>\n",
       "      <td>count</td>\n",
       "      <td>414.000000</td>\n",
       "      <td>414.000000</td>\n",
       "      <td>414.000000</td>\n",
       "      <td>414.000000</td>\n",
       "    </tr>\n",
       "    <tr>\n",
       "      <td>mean</td>\n",
       "      <td>18.010797</td>\n",
       "      <td>1317.721417</td>\n",
       "      <td>4.685411</td>\n",
       "      <td>39.596958</td>\n",
       "    </tr>\n",
       "    <tr>\n",
       "      <td>std</td>\n",
       "      <td>11.577065</td>\n",
       "      <td>3353.889582</td>\n",
       "      <td>6.463112</td>\n",
       "      <td>29.531770</td>\n",
       "    </tr>\n",
       "    <tr>\n",
       "      <td>min</td>\n",
       "      <td>0.000000</td>\n",
       "      <td>23.382840</td>\n",
       "      <td>0.000000</td>\n",
       "      <td>7.600000</td>\n",
       "    </tr>\n",
       "    <tr>\n",
       "      <td>25%</td>\n",
       "      <td>9.250000</td>\n",
       "      <td>289.324800</td>\n",
       "      <td>1.000000</td>\n",
       "      <td>28.175000</td>\n",
       "    </tr>\n",
       "    <tr>\n",
       "      <td>50%</td>\n",
       "      <td>16.200000</td>\n",
       "      <td>492.231300</td>\n",
       "      <td>4.000000</td>\n",
       "      <td>38.850000</td>\n",
       "    </tr>\n",
       "    <tr>\n",
       "      <td>75%</td>\n",
       "      <td>28.992500</td>\n",
       "      <td>1487.175250</td>\n",
       "      <td>6.000000</td>\n",
       "      <td>46.775000</td>\n",
       "    </tr>\n",
       "    <tr>\n",
       "      <td>max</td>\n",
       "      <td>50.500000</td>\n",
       "      <td>54334.544300</td>\n",
       "      <td>78.400000</td>\n",
       "      <td>568.160000</td>\n",
       "    </tr>\n",
       "  </tbody>\n",
       "</table>\n",
       "</div>"
      ],
      "text/plain": [
       "        house_age  Distance_to_MRT_Station  no_of_convenient_stores  \\\n",
       "count  414.000000               414.000000               414.000000   \n",
       "mean    18.010797              1317.721417                 4.685411   \n",
       "std     11.577065              3353.889582                 6.463112   \n",
       "min      0.000000                23.382840                 0.000000   \n",
       "25%      9.250000               289.324800                 1.000000   \n",
       "50%     16.200000               492.231300                 4.000000   \n",
       "75%     28.992500              1487.175250                 6.000000   \n",
       "max     50.500000             54334.544300                78.400000   \n",
       "\n",
       "       house_price  \n",
       "count   414.000000  \n",
       "mean     39.596958  \n",
       "std      29.531770  \n",
       "min       7.600000  \n",
       "25%      28.175000  \n",
       "50%      38.850000  \n",
       "75%      46.775000  \n",
       "max     568.160000  "
      ]
     },
     "execution_count": 66,
     "metadata": {},
     "output_type": "execute_result"
    }
   ],
   "source": [
    "real_estate_data = pd.read_csv(\"datasets/real_estate_data_outliers.csv\")\n",
    "\n",
    "real_estate_data.describe()"
   ]
  },
  {
   "cell_type": "code",
   "execution_count": 68,
   "metadata": {},
   "outputs": [
    {
     "data": {
      "text/html": [
       "<div>\n",
       "<style scoped>\n",
       "    .dataframe tbody tr th:only-of-type {\n",
       "        vertical-align: middle;\n",
       "    }\n",
       "\n",
       "    .dataframe tbody tr th {\n",
       "        vertical-align: top;\n",
       "    }\n",
       "\n",
       "    .dataframe thead th {\n",
       "        text-align: right;\n",
       "    }\n",
       "</style>\n",
       "<table border=\"1\" class=\"dataframe\">\n",
       "  <thead>\n",
       "    <tr style=\"text-align: right;\">\n",
       "      <th></th>\n",
       "      <th>house_age</th>\n",
       "      <th>Distance_to_MRT_Station</th>\n",
       "      <th>no_of_convenient_stores</th>\n",
       "      <th>house_price</th>\n",
       "    </tr>\n",
       "  </thead>\n",
       "  <tbody>\n",
       "    <tr>\n",
       "      <td>8</td>\n",
       "      <td>45.3</td>\n",
       "      <td>5512.03800</td>\n",
       "      <td>1.0</td>\n",
       "      <td>100.435</td>\n",
       "    </tr>\n",
       "    <tr>\n",
       "      <td>38</td>\n",
       "      <td>50.5</td>\n",
       "      <td>577.96150</td>\n",
       "      <td>6.0</td>\n",
       "      <td>47.700</td>\n",
       "    </tr>\n",
       "    <tr>\n",
       "      <td>192</td>\n",
       "      <td>43.8</td>\n",
       "      <td>57.58945</td>\n",
       "      <td>7.0</td>\n",
       "      <td>42.700</td>\n",
       "    </tr>\n",
       "    <tr>\n",
       "      <td>392</td>\n",
       "      <td>42.7</td>\n",
       "      <td>443.80200</td>\n",
       "      <td>6.0</td>\n",
       "      <td>35.300</td>\n",
       "    </tr>\n",
       "  </tbody>\n",
       "</table>\n",
       "</div>"
      ],
      "text/plain": [
       "     house_age  Distance_to_MRT_Station  no_of_convenient_stores  house_price\n",
       "8         45.3               5512.03800                      1.0      100.435\n",
       "38        50.5                577.96150                      6.0       47.700\n",
       "192       43.8                 57.58945                      7.0       42.700\n",
       "392       42.7                443.80200                      6.0       35.300"
      ]
     },
     "execution_count": 68,
     "metadata": {},
     "output_type": "execute_result"
    }
   ],
   "source": [
    "real_estate_data[real_estate_data['house_age'] > 42]"
   ]
  },
  {
   "cell_type": "code",
   "execution_count": 69,
   "metadata": {},
   "outputs": [
    {
     "data": {
      "text/html": [
       "<div>\n",
       "<style scoped>\n",
       "    .dataframe tbody tr th:only-of-type {\n",
       "        vertical-align: middle;\n",
       "    }\n",
       "\n",
       "    .dataframe tbody tr th {\n",
       "        vertical-align: top;\n",
       "    }\n",
       "\n",
       "    .dataframe thead th {\n",
       "        text-align: right;\n",
       "    }\n",
       "</style>\n",
       "<table border=\"1\" class=\"dataframe\">\n",
       "  <thead>\n",
       "    <tr style=\"text-align: right;\">\n",
       "      <th></th>\n",
       "      <th>house_age</th>\n",
       "      <th>Distance_to_MRT_Station</th>\n",
       "      <th>no_of_convenient_stores</th>\n",
       "      <th>house_price</th>\n",
       "    </tr>\n",
       "  </thead>\n",
       "  <tbody>\n",
       "    <tr>\n",
       "      <td>0</td>\n",
       "      <td>1.209817</td>\n",
       "      <td>-0.368031</td>\n",
       "      <td>0.823291</td>\n",
       "      <td>-0.057532</td>\n",
       "    </tr>\n",
       "    <tr>\n",
       "      <td>1</td>\n",
       "      <td>0.128790</td>\n",
       "      <td>-0.301844</td>\n",
       "      <td>0.668379</td>\n",
       "      <td>0.088250</td>\n",
       "    </tr>\n",
       "    <tr>\n",
       "      <td>2</td>\n",
       "      <td>-0.407400</td>\n",
       "      <td>-0.225604</td>\n",
       "      <td>6.291664</td>\n",
       "      <td>0.261155</td>\n",
       "    </tr>\n",
       "    <tr>\n",
       "      <td>3</td>\n",
       "      <td>-0.407400</td>\n",
       "      <td>-0.225604</td>\n",
       "      <td>0.048733</td>\n",
       "      <td>0.515426</td>\n",
       "    </tr>\n",
       "    <tr>\n",
       "      <td>4</td>\n",
       "      <td>1.036853</td>\n",
       "      <td>-0.276776</td>\n",
       "      <td>0.048733</td>\n",
       "      <td>0.118763</td>\n",
       "    </tr>\n",
       "  </tbody>\n",
       "</table>\n",
       "</div>"
      ],
      "text/plain": [
       "   house_age  Distance_to_MRT_Station  no_of_convenient_stores  house_price\n",
       "0   1.209817                -0.368031                 0.823291    -0.057532\n",
       "1   0.128790                -0.301844                 0.668379     0.088250\n",
       "2  -0.407400                -0.225604                 6.291664     0.261155\n",
       "3  -0.407400                -0.225604                 0.048733     0.515426\n",
       "4   1.036853                -0.276776                 0.048733     0.118763"
      ]
     },
     "execution_count": 69,
     "metadata": {},
     "output_type": "execute_result"
    }
   ],
   "source": [
    "scaled_df = pd.DataFrame(scale(real_estate_data), columns = real_estate_data.columns)\n",
    "\n",
    "scaled_df.head(5)"
   ]
  },
  {
   "cell_type": "code",
   "execution_count": 70,
   "metadata": {},
   "outputs": [
    {
     "data": {
      "image/png": "[encoded data removed]",
      "text/plain": [
       "<Figure size 720x576 with 1 Axes>"
      ]
     },
     "metadata": {
      "needs_background": "light"
     },
     "output_type": "display_data"
    }
   ],
   "source": [
    "scaled_df.boxplot(figsize = (10, 8))\n",
    "\n",
    "plt.show()"
   ]
  },
  {
   "cell_type": "code",
   "execution_count": 71,
   "metadata": {},
   "outputs": [],
   "source": [
    "scaled_df[\"robust_house_age\"] = robust_scale(scaled_df[\"house_age\"])"
   ]
  },
  {
   "cell_type": "markdown",
   "metadata": {},
   "source": [
    "### Compare the interquartile range of values\n",
    "\n",
    "- for the standardized data it is a larger range than the robust scaled data\n",
    "- the robust scaler is likely to flag many more outliers"
   ]
  },
  {
   "cell_type": "code",
   "execution_count": 72,
   "metadata": {},
   "outputs": [
    {
     "data": {
      "image/png": "[encoded data removed]",
      "text/plain": [
       "<Figure size 864x576 with 1 Axes>"
      ]
     },
     "metadata": {
      "needs_background": "light"
     },
     "output_type": "display_data"
    }
   ],
   "source": [
    "scaled_df.boxplot(column = [\"house_age\", \"robust_house_age\"], figsize = (12, 8))\n",
    "\n",
    "plt.show()"
   ]
  },
  {
   "cell_type": "code",
   "execution_count": 73,
   "metadata": {},
   "outputs": [
    {
     "data": {
      "text/plain": [
       "RobustScaler(copy=True, quantile_range=(25.0, 75.0), with_centering=True,\n",
       "             with_scaling=True)"
      ]
     },
     "execution_count": 73,
     "metadata": {},
     "output_type": "execute_result"
    }
   ],
   "source": [
    "robust_scaler = RobustScaler(copy = True, with_centering = True, with_scaling = True)\n",
    "\n",
    "robust_scaler"
   ]
  },
  {
   "cell_type": "code",
   "execution_count": 74,
   "metadata": {},
   "outputs": [
    {
     "data": {
      "image/png": "[encoded data removed]",
      "text/plain": [
       "<Figure size 864x576 with 1 Axes>"
      ]
     },
     "metadata": {
      "needs_background": "light"
     },
     "output_type": "display_data"
    }
   ],
   "source": [
    "robust_scaled_array = robust_scaler.fit_transform(real_estate_data)\n",
    "\n",
    "robust_scaled_df = pd.DataFrame(robust_scaled_array, columns = real_estate_data.columns)\n",
    "\n",
    "robust_scaled_df.boxplot(figsize = (12, 8))\n",
    "\n",
    "plt.show()"
   ]
  },
  {
   "cell_type": "code",
   "execution_count": null,
   "metadata": {},
   "outputs": [],
   "source": []
  }
 ],
 "metadata": {
  "kernelspec": {
   "display_name": "Python 3",
   "language": "python",
   "name": "python3"
  },
  "language_info": {
   "codemirror_mode": {
    "name": "ipython",
    "version": 3
   },
   "file_extension": ".py",
   "mimetype": "text/x-python",
   "name": "python",
   "nbconvert_exporter": "python",
   "pygments_lexer": "ipython3",
   "version": "3.7.4"
  }
 },
 "nbformat": 4,
 "nbformat_minor": 2
}
