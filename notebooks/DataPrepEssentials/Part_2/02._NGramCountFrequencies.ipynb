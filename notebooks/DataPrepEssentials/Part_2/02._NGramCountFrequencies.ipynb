{
 "cells": [
  {
   "cell_type": "code",
   "execution_count": 3,
   "metadata": {},
   "outputs": [],
   "source": [
    "from sklearn.feature_extraction.text import CountVectorizer"
   ]
  },
  {
   "cell_type": "code",
   "execution_count": 4,
   "metadata": {},
   "outputs": [],
   "source": [
    "train_text = [\"The Curse of the Cheese Pyramid. \",\n",
    "              \"The Hunt for the Golden Book. \",\n",
    "              \"The Temple of the Ruby of Fire. \",\n",
    "              \"Harry Potter and the Prisoner of Azkaban. \",\n",
    "              \"Harry Potter and the Goblet of Fire. \",\n",
    "              \"Harry Potter and the Order of the Phoenix. \"]"
   ]
  },
  {
   "cell_type": "markdown",
   "metadata": {},
   "source": [
    "### Represent text using the bag of n-grams model"
   ]
  },
  {
   "cell_type": "code",
   "execution_count": 17,
   "metadata": {},
   "outputs": [],
   "source": [
    "n_gram_vectorizer = CountVectorizer(ngram_range = (2, 2))\n",
    "\n",
    "transformed_vector = n_gram_vectorizer.fit_transform(train_text)"
   ]
  },
  {
   "cell_type": "code",
   "execution_count": 18,
   "metadata": {},
   "outputs": [
    {
     "name": "stdout",
     "output_type": "stream",
     "text": [
      "{'the curse': 17, 'curse of': 2, 'of the': 10, 'the cheese': 16, 'cheese pyramid': 1, 'the hunt': 20, 'hunt for': 7, 'for the': 3, 'the golden': 19, 'golden book': 5, 'the temple': 25, 'temple of': 15, 'the ruby': 24, 'ruby of': 14, 'of fire': 9, 'harry potter': 6, 'potter and': 12, 'and the': 0, 'the prisoner': 23, 'prisoner of': 13, 'of azkaban': 8, 'the goblet': 18, 'goblet of': 4, 'the order': 21, 'order of': 11, 'the phoenix': 22}\n"
     ]
    }
   ],
   "source": [
    "print(n_gram_vectorizer.vocabulary_)"
   ]
  },
  {
   "cell_type": "code",
   "execution_count": 19,
   "metadata": {},
   "outputs": [
    {
     "data": {
      "text/plain": [
       "array([[0, 1, 1, 0, 0, 0, 0, 0, 0, 0, 1, 0, 0, 0, 0, 0, 1, 1, 0, 0, 0, 0,\n",
       "        0, 0, 0, 0],\n",
       "       [0, 0, 0, 1, 0, 1, 0, 1, 0, 0, 0, 0, 0, 0, 0, 0, 0, 0, 0, 1, 1, 0,\n",
       "        0, 0, 0, 0],\n",
       "       [0, 0, 0, 0, 0, 0, 0, 0, 0, 1, 1, 0, 0, 0, 1, 1, 0, 0, 0, 0, 0, 0,\n",
       "        0, 0, 1, 1],\n",
       "       [1, 0, 0, 0, 0, 0, 1, 0, 1, 0, 0, 0, 1, 1, 0, 0, 0, 0, 0, 0, 0, 0,\n",
       "        0, 1, 0, 0],\n",
       "       [1, 0, 0, 0, 1, 0, 1, 0, 0, 1, 0, 0, 1, 0, 0, 0, 0, 0, 1, 0, 0, 0,\n",
       "        0, 0, 0, 0],\n",
       "       [1, 0, 0, 0, 0, 0, 1, 0, 0, 0, 1, 1, 1, 0, 0, 0, 0, 0, 0, 0, 0, 1,\n",
       "        1, 0, 0, 0]])"
      ]
     },
     "execution_count": 19,
     "metadata": {},
     "output_type": "execute_result"
    }
   ],
   "source": [
    "transformed_vector.toarray()"
   ]
  },
  {
   "cell_type": "markdown",
   "metadata": {},
   "source": [
    "### Includes single words as well as bigrams"
   ]
  },
  {
   "cell_type": "code",
   "execution_count": 20,
   "metadata": {},
   "outputs": [
    {
     "data": {
      "text/plain": [
       "{'the': 35,\n",
       " 'curse': 6,\n",
       " 'of': 19,\n",
       " 'cheese': 4,\n",
       " 'pyramid': 30,\n",
       " 'the curse': 37,\n",
       " 'curse of': 7,\n",
       " 'of the': 22,\n",
       " 'the cheese': 36,\n",
       " 'cheese pyramid': 5,\n",
       " 'hunt': 17,\n",
       " 'for': 9,\n",
       " 'golden': 13,\n",
       " 'book': 3,\n",
       " 'the hunt': 40,\n",
       " 'hunt for': 18,\n",
       " 'for the': 10,\n",
       " 'the golden': 39,\n",
       " 'golden book': 14,\n",
       " 'temple': 33,\n",
       " 'ruby': 31,\n",
       " 'fire': 8,\n",
       " 'the temple': 45,\n",
       " 'temple of': 34,\n",
       " 'the ruby': 44,\n",
       " 'ruby of': 32,\n",
       " 'of fire': 21,\n",
       " 'harry': 15,\n",
       " 'potter': 26,\n",
       " 'and': 0,\n",
       " 'prisoner': 28,\n",
       " 'azkaban': 2,\n",
       " 'harry potter': 16,\n",
       " 'potter and': 27,\n",
       " 'and the': 1,\n",
       " 'the prisoner': 43,\n",
       " 'prisoner of': 29,\n",
       " 'of azkaban': 20,\n",
       " 'goblet': 11,\n",
       " 'the goblet': 38,\n",
       " 'goblet of': 12,\n",
       " 'order': 23,\n",
       " 'phoenix': 25,\n",
       " 'the order': 41,\n",
       " 'order of': 24,\n",
       " 'the phoenix': 42}"
      ]
     },
     "execution_count": 20,
     "metadata": {},
     "output_type": "execute_result"
    }
   ],
   "source": [
    "n_gram_vectorizer = CountVectorizer(ngram_range = (1, 2))\n",
    "\n",
    "transformed_vector = n_gram_vectorizer.fit_transform(train_text)\n",
    "\n",
    "n_gram_vectorizer.vocabulary_"
   ]
  },
  {
   "cell_type": "code",
   "execution_count": 21,
   "metadata": {},
   "outputs": [
    {
     "data": {
      "text/plain": [
       "array([[0, 0, 0, 0, 1, 1, 1, 1, 0, 0, 0, 0, 0, 0, 0, 0, 0, 0, 0, 1, 0, 0,\n",
       "        1, 0, 0, 0, 0, 0, 0, 0, 1, 0, 0, 0, 0, 2, 1, 1, 0, 0, 0, 0, 0, 0,\n",
       "        0, 0],\n",
       "       [0, 0, 0, 1, 0, 0, 0, 0, 0, 1, 1, 0, 0, 1, 1, 0, 0, 1, 1, 0, 0, 0,\n",
       "        0, 0, 0, 0, 0, 0, 0, 0, 0, 0, 0, 0, 0, 2, 0, 0, 0, 1, 1, 0, 0, 0,\n",
       "        0, 0],\n",
       "       [0, 0, 0, 0, 0, 0, 0, 0, 1, 0, 0, 0, 0, 0, 0, 0, 0, 0, 0, 2, 0, 1,\n",
       "        1, 0, 0, 0, 0, 0, 0, 0, 0, 1, 1, 1, 1, 2, 0, 0, 0, 0, 0, 0, 0, 0,\n",
       "        1, 1],\n",
       "       [1, 1, 1, 0, 0, 0, 0, 0, 0, 0, 0, 0, 0, 0, 0, 1, 1, 0, 0, 1, 1, 0,\n",
       "        0, 0, 0, 0, 1, 1, 1, 1, 0, 0, 0, 0, 0, 1, 0, 0, 0, 0, 0, 0, 0, 1,\n",
       "        0, 0],\n",
       "       [1, 1, 0, 0, 0, 0, 0, 0, 1, 0, 0, 1, 1, 0, 0, 1, 1, 0, 0, 1, 0, 1,\n",
       "        0, 0, 0, 0, 1, 1, 0, 0, 0, 0, 0, 0, 0, 1, 0, 0, 1, 0, 0, 0, 0, 0,\n",
       "        0, 0],\n",
       "       [1, 1, 0, 0, 0, 0, 0, 0, 0, 0, 0, 0, 0, 0, 0, 1, 1, 0, 0, 1, 0, 0,\n",
       "        1, 1, 1, 1, 1, 1, 0, 0, 0, 0, 0, 0, 0, 2, 0, 0, 0, 0, 0, 1, 1, 0,\n",
       "        0, 0]])"
      ]
     },
     "execution_count": 21,
     "metadata": {},
     "output_type": "execute_result"
    }
   ],
   "source": [
    "transformed_vector.toarray()"
   ]
  },
  {
   "cell_type": "code",
   "execution_count": 22,
   "metadata": {},
   "outputs": [
    {
     "name": "stdout",
     "output_type": "stream",
     "text": [
      "Nearly ten years had passed since the Dursleys had woken up to find their nephew on the front step, but Privet Drive had hardly changed at all. The sun rose on the same tidy front gardens and lit up the brass number four on the Dursleys' front door; it crept into their living room, which was almost exactly the same as it had been on the night when Mr. Dursley had seen that fateful news report about the owls. Only the photographs on the mantelpiece really showed how much time had passed. Ten years ago, there had been lots of pictures of what looked like a large pink beach ball wearing different-colored bonnets - but Dudley Dursley was no longer a baby, and now the photographs showed a large blond boy riding his first bicycle, on a carousel at the fair, playing a computer game with his father, being hugged and kissed by his mother. The room held no sign at all that another boy lived in the house, too.\n"
     ]
    }
   ],
   "source": [
    "with open(\"./datasets/harrypotter.txt\", \"r\") as f:\n",
    "    file_contents = f.read()\n",
    "\n",
    "print(file_contents)"
   ]
  },
  {
   "cell_type": "code",
   "execution_count": 23,
   "metadata": {},
   "outputs": [
    {
     "name": "stdout",
     "output_type": "stream",
     "text": [
      "['Nearly ten years had passed since the Dursleys had woken up to find their nephew on the front step, but Privet Drive had hardly changed at all', \" The sun rose on the same tidy front gardens and lit up the brass number four on the Dursleys' front door; it crept into their living room, which was almost exactly the same as it had been on the night when Mr\", ' Dursley had seen that fateful news report about the owls', ' Only the photographs on the mantelpiece really showed how much time had passed', ' Ten years ago, there had been lots of pictures of what looked like a large pink beach ball wearing different-colored bonnets - but Dudley Dursley was no longer a baby, and now the photographs showed a large blond boy riding his first bicycle, on a carousel at the fair, playing a computer game with his father, being hugged and kissed by his mother', ' The room held no sign at all that another boy lived in the house, too', '']\n"
     ]
    }
   ],
   "source": [
    "sentences = file_contents.split(\".\")\n",
    "\n",
    "print(sentences)"
   ]
  },
  {
   "cell_type": "code",
   "execution_count": 24,
   "metadata": {},
   "outputs": [
    {
     "data": {
      "text/plain": [
       "{'nearly ten': 159,\n",
       " 'ten years': 233,\n",
       " 'years had': 299,\n",
       " 'had passed': 107,\n",
       " 'passed since': 189,\n",
       " 'since the': 227,\n",
       " 'the dursleys': 242,\n",
       " 'dursleys had': 76,\n",
       " 'had woken': 111,\n",
       " 'woken up': 295,\n",
       " 'up to': 280,\n",
       " 'to find': 276,\n",
       " 'find their': 86,\n",
       " 'their nephew': 268,\n",
       " 'nephew on': 161,\n",
       " 'on the': 181,\n",
       " 'the front': 247,\n",
       " 'front step': 96,\n",
       " 'step but': 229,\n",
       " 'but privet': 48,\n",
       " 'privet drive': 201,\n",
       " 'drive had': 66,\n",
       " 'had hardly': 105,\n",
       " 'hardly changed': 113,\n",
       " 'changed at': 54,\n",
       " 'at all': 18,\n",
       " 'nearly ten years': 160,\n",
       " 'ten years had': 235,\n",
       " 'years had passed': 300,\n",
       " 'had passed since': 108,\n",
       " 'passed since the': 190,\n",
       " 'since the dursleys': 228,\n",
       " 'the dursleys had': 244,\n",
       " 'dursleys had woken': 77,\n",
       " 'had woken up': 112,\n",
       " 'woken up to': 296,\n",
       " 'up to find': 281,\n",
       " 'to find their': 277,\n",
       " 'find their nephew': 87,\n",
       " 'their nephew on': 269,\n",
       " 'nephew on the': 162,\n",
       " 'on the front': 183,\n",
       " 'the front step': 248,\n",
       " 'front step but': 97,\n",
       " 'step but privet': 230,\n",
       " 'but privet drive': 49,\n",
       " 'privet drive had': 202,\n",
       " 'drive had hardly': 67,\n",
       " 'had hardly changed': 106,\n",
       " 'hardly changed at': 114,\n",
       " 'changed at all': 55,\n",
       " 'the sun': 264,\n",
       " 'sun rose': 231,\n",
       " 'rose on': 213,\n",
       " 'the same': 261,\n",
       " 'same tidy': 217,\n",
       " 'tidy front': 272,\n",
       " 'front gardens': 94,\n",
       " 'gardens and': 100,\n",
       " 'and lit': 10,\n",
       " 'lit up': 143,\n",
       " 'up the': 278,\n",
       " 'the brass': 240,\n",
       " 'brass number': 44,\n",
       " 'number four': 173,\n",
       " 'four on': 90,\n",
       " 'dursleys front': 74,\n",
       " 'front door': 92,\n",
       " 'door it': 64,\n",
       " 'it crept': 131,\n",
       " 'crept into': 60,\n",
       " 'into their': 129,\n",
       " 'their living': 266,\n",
       " 'living room': 147,\n",
       " 'room which': 211,\n",
       " 'which was': 291,\n",
       " 'was almost': 282,\n",
       " 'almost exactly': 6,\n",
       " 'exactly the': 78,\n",
       " 'same as': 215,\n",
       " 'as it': 16,\n",
       " 'it had': 133,\n",
       " 'had been': 102,\n",
       " 'been on': 30,\n",
       " 'the night': 253,\n",
       " 'night when': 165,\n",
       " 'when mr': 290,\n",
       " 'the sun rose': 265,\n",
       " 'sun rose on': 232,\n",
       " 'rose on the': 214,\n",
       " 'on the same': 186,\n",
       " 'the same tidy': 263,\n",
       " 'same tidy front': 218,\n",
       " 'tidy front gardens': 273,\n",
       " 'front gardens and': 95,\n",
       " 'gardens and lit': 101,\n",
       " 'and lit up': 11,\n",
       " 'lit up the': 144,\n",
       " 'up the brass': 279,\n",
       " 'the brass number': 241,\n",
       " 'brass number four': 45,\n",
       " 'number four on': 174,\n",
       " 'four on the': 91,\n",
       " 'on the dursleys': 182,\n",
       " 'the dursleys front': 243,\n",
       " 'dursleys front door': 75,\n",
       " 'front door it': 93,\n",
       " 'door it crept': 65,\n",
       " 'it crept into': 132,\n",
       " 'crept into their': 61,\n",
       " 'into their living': 130,\n",
       " 'their living room': 267,\n",
       " 'living room which': 148,\n",
       " 'room which was': 212,\n",
       " 'which was almost': 292,\n",
       " 'was almost exactly': 283,\n",
       " 'almost exactly the': 7,\n",
       " 'exactly the same': 79,\n",
       " 'the same as': 262,\n",
       " 'same as it': 216,\n",
       " 'as it had': 17,\n",
       " 'it had been': 134,\n",
       " 'had been on': 104,\n",
       " 'been on the': 31,\n",
       " 'on the night': 185,\n",
       " 'the night when': 254,\n",
       " 'night when mr': 166,\n",
       " 'dursley had': 70,\n",
       " 'had seen': 109,\n",
       " 'seen that': 219,\n",
       " 'that fateful': 238,\n",
       " 'fateful news': 82,\n",
       " 'news report': 163,\n",
       " 'report about': 205,\n",
       " 'about the': 0,\n",
       " 'the owls': 255,\n",
       " 'dursley had seen': 71,\n",
       " 'had seen that': 110,\n",
       " 'seen that fateful': 220,\n",
       " 'that fateful news': 239,\n",
       " 'fateful news report': 83,\n",
       " 'news report about': 164,\n",
       " 'report about the': 206,\n",
       " 'about the owls': 1,\n",
       " 'only the': 187,\n",
       " 'the photographs': 256,\n",
       " 'photographs on': 191,\n",
       " 'the mantelpiece': 251,\n",
       " 'mantelpiece really': 155,\n",
       " 'really showed': 203,\n",
       " 'showed how': 221,\n",
       " 'how much': 123,\n",
       " 'much time': 157,\n",
       " 'time had': 274,\n",
       " 'only the photographs': 188,\n",
       " 'the photographs on': 257,\n",
       " 'photographs on the': 192,\n",
       " 'on the mantelpiece': 184,\n",
       " 'the mantelpiece really': 252,\n",
       " 'mantelpiece really showed': 156,\n",
       " 'really showed how': 204,\n",
       " 'showed how much': 222,\n",
       " 'how much time': 124,\n",
       " 'much time had': 158,\n",
       " 'time had passed': 275,\n",
       " 'years ago': 297,\n",
       " 'ago there': 2,\n",
       " 'there had': 270,\n",
       " 'been lots': 28,\n",
       " 'lots of': 153,\n",
       " 'of pictures': 175,\n",
       " 'pictures of': 195,\n",
       " 'of what': 177,\n",
       " 'what looked': 288,\n",
       " 'looked like': 151,\n",
       " 'like large': 141,\n",
       " 'large pink': 139,\n",
       " 'pink beach': 197,\n",
       " 'beach ball': 26,\n",
       " 'ball wearing': 24,\n",
       " 'wearing different': 286,\n",
       " 'different colored': 62,\n",
       " 'colored bonnets': 56,\n",
       " 'bonnets but': 38,\n",
       " 'but dudley': 46,\n",
       " 'dudley dursley': 68,\n",
       " 'dursley was': 72,\n",
       " 'was no': 284,\n",
       " 'no longer': 167,\n",
       " 'longer baby': 149,\n",
       " 'baby and': 22,\n",
       " 'and now': 12,\n",
       " 'now the': 171,\n",
       " 'photographs showed': 193,\n",
       " 'showed large': 223,\n",
       " 'large blond': 137,\n",
       " 'blond boy': 36,\n",
       " 'boy riding': 42,\n",
       " 'riding his': 207,\n",
       " 'his first': 119,\n",
       " 'first bicycle': 88,\n",
       " 'bicycle on': 34,\n",
       " 'on carousel': 179,\n",
       " 'carousel at': 52,\n",
       " 'at the': 20,\n",
       " 'the fair': 245,\n",
       " 'fair playing': 80,\n",
       " 'playing computer': 199,\n",
       " 'computer game': 58,\n",
       " 'game with': 98,\n",
       " 'with his': 293,\n",
       " 'his father': 117,\n",
       " 'father being': 84,\n",
       " 'being hugged': 32,\n",
       " 'hugged and': 125,\n",
       " 'and kissed': 8,\n",
       " 'kissed by': 135,\n",
       " 'by his': 50,\n",
       " 'his mother': 121,\n",
       " 'ten years ago': 234,\n",
       " 'years ago there': 298,\n",
       " 'ago there had': 3,\n",
       " 'there had been': 271,\n",
       " 'had been lots': 103,\n",
       " 'been lots of': 29,\n",
       " 'lots of pictures': 154,\n",
       " 'of pictures of': 176,\n",
       " 'pictures of what': 196,\n",
       " 'of what looked': 178,\n",
       " 'what looked like': 289,\n",
       " 'looked like large': 152,\n",
       " 'like large pink': 142,\n",
       " 'large pink beach': 140,\n",
       " 'pink beach ball': 198,\n",
       " 'beach ball wearing': 27,\n",
       " 'ball wearing different': 25,\n",
       " 'wearing different colored': 287,\n",
       " 'different colored bonnets': 63,\n",
       " 'colored bonnets but': 57,\n",
       " 'bonnets but dudley': 39,\n",
       " 'but dudley dursley': 47,\n",
       " 'dudley dursley was': 69,\n",
       " 'dursley was no': 73,\n",
       " 'was no longer': 285,\n",
       " 'no longer baby': 168,\n",
       " 'longer baby and': 150,\n",
       " 'baby and now': 23,\n",
       " 'and now the': 13,\n",
       " 'now the photographs': 172,\n",
       " 'the photographs showed': 258,\n",
       " 'photographs showed large': 194,\n",
       " 'showed large blond': 224,\n",
       " 'large blond boy': 138,\n",
       " 'blond boy riding': 37,\n",
       " 'boy riding his': 43,\n",
       " 'riding his first': 208,\n",
       " 'his first bicycle': 120,\n",
       " 'first bicycle on': 89,\n",
       " 'bicycle on carousel': 35,\n",
       " 'on carousel at': 180,\n",
       " 'carousel at the': 53,\n",
       " 'at the fair': 21,\n",
       " 'the fair playing': 246,\n",
       " 'fair playing computer': 81,\n",
       " 'playing computer game': 200,\n",
       " 'computer game with': 59,\n",
       " 'game with his': 99,\n",
       " 'with his father': 294,\n",
       " 'his father being': 118,\n",
       " 'father being hugged': 85,\n",
       " 'being hugged and': 33,\n",
       " 'hugged and kissed': 126,\n",
       " 'and kissed by': 9,\n",
       " 'kissed by his': 136,\n",
       " 'by his mother': 51,\n",
       " 'the room': 259,\n",
       " 'room held': 209,\n",
       " 'held no': 115,\n",
       " 'no sign': 169,\n",
       " 'sign at': 225,\n",
       " 'all that': 4,\n",
       " 'that another': 236,\n",
       " 'another boy': 14,\n",
       " 'boy lived': 40,\n",
       " 'lived in': 145,\n",
       " 'in the': 127,\n",
       " 'the house': 249,\n",
       " 'house too': 122,\n",
       " 'the room held': 260,\n",
       " 'room held no': 210,\n",
       " 'held no sign': 116,\n",
       " 'no sign at': 170,\n",
       " 'sign at all': 226,\n",
       " 'at all that': 19,\n",
       " 'all that another': 5,\n",
       " 'that another boy': 237,\n",
       " 'another boy lived': 15,\n",
       " 'boy lived in': 41,\n",
       " 'lived in the': 146,\n",
       " 'in the house': 128,\n",
       " 'the house too': 250}"
      ]
     },
     "execution_count": 24,
     "metadata": {},
     "output_type": "execute_result"
    }
   ],
   "source": [
    "n_gram_vectorizer = CountVectorizer(ngram_range = (2, 3))\n",
    "\n",
    "transformed_vector = n_gram_vectorizer.fit_transform(sentences)\n",
    "\n",
    "n_gram_vectorizer.vocabulary_"
   ]
  },
  {
   "cell_type": "code",
   "execution_count": 25,
   "metadata": {},
   "outputs": [
    {
     "data": {
      "text/plain": [
       "201"
      ]
     },
     "execution_count": 25,
     "metadata": {},
     "output_type": "execute_result"
    }
   ],
   "source": [
    "n_gram_vectorizer.vocabulary_.get(\"privet drive\")"
   ]
  },
  {
   "cell_type": "code",
   "execution_count": null,
   "metadata": {},
   "outputs": [],
   "source": []
  }
 ],
 "metadata": {
  "kernelspec": {
   "display_name": "Python 3",
   "language": "python",
   "name": "python3"
  },
  "language_info": {
   "codemirror_mode": {
    "name": "ipython",
    "version": 3
   },
   "file_extension": ".py",
   "mimetype": "text/x-python",
   "name": "python",
   "nbconvert_exporter": "python",
   "pygments_lexer": "ipython3",
   "version": "3.7.4"
  }
 },
 "nbformat": 4,
 "nbformat_minor": 2
}
