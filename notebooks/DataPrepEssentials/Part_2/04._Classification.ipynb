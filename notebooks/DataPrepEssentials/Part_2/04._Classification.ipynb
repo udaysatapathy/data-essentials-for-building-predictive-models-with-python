{
 "cells": [
  {
   "cell_type": "code",
   "execution_count": 45,
   "metadata": {},
   "outputs": [],
   "source": [
    "import pandas as pd\n",
    "import numpy as np\n",
    "\n",
    "from sklearn.model_selection import train_test_split\n",
    "\n",
    "from sklearn.metrics import accuracy_score\n",
    "\n",
    "from sklearn.feature_extraction.text import CountVectorizer\n",
    "from sklearn.feature_extraction.text import TfidfVectorizer\n",
    "from sklearn.naive_bayes import GaussianNB"
   ]
  },
  {
   "cell_type": "markdown",
   "metadata": {},
   "source": [
    "### Source URL to the original dataset\n",
    "\n",
    "http://qwone.com/~jason/20Newsgroups/"
   ]
  },
  {
   "cell_type": "code",
   "execution_count": 30,
   "metadata": {},
   "outputs": [],
   "source": [
    "newsgroups_df = pd.read_csv(\"datasets/newsgroups_sampled.csv\")"
   ]
  },
  {
   "cell_type": "markdown",
   "metadata": {},
   "source": [
    "The unique target values are\n",
    "\n",
    "- 'alt.atheism',\n",
    "- 'comp.graphics',\n",
    "- 'comp.os.ms-windows.misc',\n",
    "- 'comp.sys.ibm.pc.hardware',\n",
    "- 'comp.sys.mac.hardware',\n",
    "- 'comp.windows.x',\n",
    "- 'misc.forsale',\n",
    "- 'rec.autos',\n",
    "- 'rec.motorcycles',\n",
    "- 'rec.sport.baseball',\n",
    "- 'rec.sport.hockey',\n",
    "- 'sci.crypt',\n",
    "- 'sci.electronics',\n",
    "- 'sci.med',\n",
    "- 'sci.space',\n",
    "- 'soc.religion.christian',\n",
    "- 'talk.politics.guns',\n",
    "- 'talk.politics.mideast',\n",
    "- 'talk.politics.misc',\n",
    "- 'talk.religion.misc'"
   ]
  },
  {
   "cell_type": "code",
   "execution_count": 31,
   "metadata": {},
   "outputs": [
    {
     "data": {
      "text/plain": [
       "(3000, 2)"
      ]
     },
     "execution_count": 31,
     "metadata": {},
     "output_type": "execute_result"
    }
   ],
   "source": [
    "newsgroups_df.shape"
   ]
  },
  {
   "cell_type": "code",
   "execution_count": 32,
   "metadata": {},
   "outputs": [
    {
     "data": {
      "text/plain": [
       "[0, 1, 2, 3, 4, 5, 6, 7, 8, 9, 10, 11, 12, 13, 14, 15, 16, 17, 18, 19]"
      ]
     },
     "execution_count": 32,
     "metadata": {},
     "output_type": "execute_result"
    }
   ],
   "source": [
    "sorted(newsgroups_df[\"target\"].unique())"
   ]
  },
  {
   "cell_type": "code",
   "execution_count": 33,
   "metadata": {},
   "outputs": [],
   "source": [
    "x = newsgroups_df[\"text\"]\n",
    "\n",
    "y = newsgroups_df[\"target\"]"
   ]
  },
  {
   "cell_type": "code",
   "execution_count": 34,
   "metadata": {},
   "outputs": [
    {
     "data": {
      "text/plain": [
       "0    from: hades@coos.dartmouth.edu (brian v. hughe...\n",
       "1    from: steveth@netcom.com (steve thomas)\\nsubje...\n",
       "2    from: lmp8913@rigel.tamu.edu (preston, lisa m)...\n",
       "3    from: rene@hardy.u.washington.edu (rene magrit...\n",
       "4    from: wtm@uhura.neoucom.edu (bill mayhew)\\nsub...\n",
       "Name: text, dtype: object"
      ]
     },
     "execution_count": 34,
     "metadata": {},
     "output_type": "execute_result"
    }
   ],
   "source": [
    "x.head()"
   ]
  },
  {
   "cell_type": "code",
   "execution_count": 35,
   "metadata": {},
   "outputs": [
    {
     "data": {
      "text/plain": [
       "0     4\n",
       "1    18\n",
       "2     1\n",
       "3     2\n",
       "4    12\n",
       "Name: target, dtype: int64"
      ]
     },
     "execution_count": 35,
     "metadata": {},
     "output_type": "execute_result"
    }
   ],
   "source": [
    "y.head()"
   ]
  },
  {
   "cell_type": "markdown",
   "metadata": {},
   "source": [
    "### Evaluating a classification model\n",
    "\n",
    "Accuracy: Proportion of correctly predicted records"
   ]
  },
  {
   "cell_type": "code",
   "execution_count": 36,
   "metadata": {},
   "outputs": [],
   "source": [
    "def classification_details(y_test, y_pred):\n",
    "\n",
    "    acc = accuracy_score(y_test, y_pred, normalize=True)\n",
    "\n",
    "    num_acc = accuracy_score(y_test, y_pred, normalize=False)\n",
    "    \n",
    "    print(\"Length of testing data: \", len(y_test))\n",
    "    print(\"accuracy_count : \" , num_acc)\n",
    "    print(\"accuracy_score : \" , acc)\n"
   ]
  },
  {
   "cell_type": "markdown",
   "metadata": {},
   "source": [
    "### Build and train a model using word frequencies"
   ]
  },
  {
   "cell_type": "code",
   "execution_count": 37,
   "metadata": {},
   "outputs": [
    {
     "data": {
      "text/plain": [
       "(3000, 57739)"
      ]
     },
     "execution_count": 37,
     "metadata": {},
     "output_type": "execute_result"
    }
   ],
   "source": [
    "count_vectorizer = CountVectorizer()\n",
    "\n",
    "feature_vector = count_vectorizer.fit_transform(x)\n",
    "\n",
    "feature_vector.shape"
   ]
  },
  {
   "cell_type": "code",
   "execution_count": 17,
   "metadata": {},
   "outputs": [
    {
     "name": "stdout",
     "output_type": "stream",
     "text": [
      "  (0, 24888)\t1\n",
      "  (0, 26908)\t3\n",
      "  (0, 17816)\t1\n",
      "  (0, 18977)\t3\n",
      "  (0, 21688)\t2\n",
      "  (0, 13984)\t1\n",
      "  (0, 28387)\t1\n",
      "  (0, 49768)\t1\n",
      "  (0, 43879)\t1\n",
      "  (0, 32799)\t4\n",
      "  (0, 28918)\t3\n",
      "  (0, 38592)\t4\n",
      "  (0, 15221)\t1\n",
      "  (0, 44648)\t1\n",
      "  (0, 51770)\t3\n",
      "  (0, 39513)\t1\n",
      "  (0, 16861)\t1\n",
      "  (0, 27093)\t1\n",
      "  (0, 38000)\t1\n",
      "  (0, 20309)\t1\n",
      "  (0, 40877)\t1\n",
      "  (0, 43940)\t1\n",
      "  (0, 20801)\t2\n",
      "  (0, 15308)\t1\n",
      "  (0, 55705)\t1\n",
      "  :\t:\n",
      "  (0, 15375)\t1\n",
      "  (0, 51296)\t1\n",
      "  (0, 20737)\t1\n",
      "  (0, 51418)\t1\n",
      "  (0, 35234)\t1\n",
      "  (0, 29255)\t1\n",
      "  (0, 39052)\t2\n",
      "  (0, 15376)\t1\n",
      "  (0, 13545)\t1\n",
      "  (0, 57150)\t1\n",
      "  (0, 51266)\t1\n",
      "  (0, 22940)\t1\n",
      "  (0, 55619)\t1\n",
      "  (0, 30358)\t1\n",
      "  (0, 35240)\t1\n",
      "  (0, 51272)\t1\n",
      "  (0, 23569)\t1\n",
      "  (0, 34339)\t1\n",
      "  (0, 15145)\t1\n",
      "  (0, 39308)\t1\n",
      "  (0, 53787)\t2\n",
      "  (0, 15307)\t1\n",
      "  (0, 11168)\t1\n",
      "  (0, 38413)\t1\n",
      "  (0, 9226)\t1\n"
     ]
    }
   ],
   "source": [
    "print(feature_vector[0])"
   ]
  },
  {
   "cell_type": "code",
   "execution_count": 19,
   "metadata": {},
   "outputs": [
    {
     "data": {
      "text/plain": [
       "(3000, 57739)"
      ]
     },
     "execution_count": 19,
     "metadata": {},
     "output_type": "execute_result"
    }
   ],
   "source": [
    "x_dense = feature_vector.todense()\n",
    "\n",
    "x_dense.shape"
   ]
  },
  {
   "cell_type": "code",
   "execution_count": 20,
   "metadata": {},
   "outputs": [],
   "source": [
    "x_train, x_test, y_train, y_test = train_test_split(x_dense, y, test_size = 0.25)"
   ]
  },
  {
   "cell_type": "code",
   "execution_count": 21,
   "metadata": {},
   "outputs": [
    {
     "data": {
      "text/plain": [
       "((2250, 57739), (750, 57739))"
      ]
     },
     "execution_count": 21,
     "metadata": {},
     "output_type": "execute_result"
    }
   ],
   "source": [
    "x_train.shape, x_test.shape"
   ]
  },
  {
   "cell_type": "code",
   "execution_count": 22,
   "metadata": {},
   "outputs": [
    {
     "data": {
      "text/plain": [
       "((2250,), (750,))"
      ]
     },
     "execution_count": 22,
     "metadata": {},
     "output_type": "execute_result"
    }
   ],
   "source": [
    "y_train.shape, y_test.shape"
   ]
  },
  {
   "cell_type": "code",
   "execution_count": 24,
   "metadata": {},
   "outputs": [],
   "source": [
    "clf = GaussianNB().fit(x_train, y_train)"
   ]
  },
  {
   "cell_type": "code",
   "execution_count": 38,
   "metadata": {},
   "outputs": [
    {
     "data": {
      "text/plain": [
       "array([10,  4,  7,  9, 14,  7, 16, 19,  3,  2])"
      ]
     },
     "execution_count": 38,
     "metadata": {},
     "output_type": "execute_result"
    }
   ],
   "source": [
    "y_pred = clf.predict(x_test)\n",
    "\n",
    "y_pred[0:10]"
   ]
  },
  {
   "cell_type": "code",
   "execution_count": 39,
   "metadata": {},
   "outputs": [
    {
     "name": "stdout",
     "output_type": "stream",
     "text": [
      "Length of testing data:  750\n",
      "accuracy_count :  538\n",
      "accuracy_score :  0.7173333333333334\n"
     ]
    }
   ],
   "source": [
    "classification_details(y_test.values, y_pred)"
   ]
  },
  {
   "cell_type": "markdown",
   "metadata": {},
   "source": [
    "### Build and train a model using TF-IDF scores"
   ]
  },
  {
   "cell_type": "code",
   "execution_count": 46,
   "metadata": {},
   "outputs": [
    {
     "data": {
      "text/plain": [
       "(3000, 57739)"
      ]
     },
     "execution_count": 46,
     "metadata": {},
     "output_type": "execute_result"
    }
   ],
   "source": [
    "tfidf_vectorizer = TfidfVectorizer()\n",
    "\n",
    "feature_vector = tfidf_vectorizer.fit_transform(x)\n",
    "\n",
    "feature_vector.shape"
   ]
  },
  {
   "cell_type": "code",
   "execution_count": 47,
   "metadata": {},
   "outputs": [
    {
     "data": {
      "text/plain": [
       "(3000, 57739)"
      ]
     },
     "execution_count": 47,
     "metadata": {},
     "output_type": "execute_result"
    }
   ],
   "source": [
    "x_dense = feature_vector.todense()\n",
    "\n",
    "x_dense.shape"
   ]
  },
  {
   "cell_type": "code",
   "execution_count": 48,
   "metadata": {},
   "outputs": [],
   "source": [
    "x_train, x_test, y_train, y_test = train_test_split(x_dense, y, test_size = 0.25)"
   ]
  },
  {
   "cell_type": "code",
   "execution_count": 49,
   "metadata": {},
   "outputs": [],
   "source": [
    "clf = GaussianNB().fit(x_train, y_train)"
   ]
  },
  {
   "cell_type": "code",
   "execution_count": 50,
   "metadata": {},
   "outputs": [
    {
     "data": {
      "text/plain": [
       "array([12,  2,  7,  9, 13, 16, 10, 13,  2, 12])"
      ]
     },
     "execution_count": 50,
     "metadata": {},
     "output_type": "execute_result"
    }
   ],
   "source": [
    "y_pred = clf.predict(x_test)\n",
    "\n",
    "y_pred[0:10]"
   ]
  },
  {
   "cell_type": "code",
   "execution_count": 51,
   "metadata": {},
   "outputs": [
    {
     "name": "stdout",
     "output_type": "stream",
     "text": [
      "Length of testing data:  750\n",
      "accuracy_count :  541\n",
      "accuracy_score :  0.7213333333333334\n"
     ]
    }
   ],
   "source": [
    "classification_details(y_test.values, y_pred)"
   ]
  },
  {
   "cell_type": "markdown",
   "metadata": {},
   "source": [
    "### Build and train a model using n-gram frequencies"
   ]
  },
  {
   "cell_type": "code",
   "execution_count": 52,
   "metadata": {},
   "outputs": [
    {
     "data": {
      "text/plain": [
       "(3000, 400938)"
      ]
     },
     "execution_count": 52,
     "metadata": {},
     "output_type": "execute_result"
    }
   ],
   "source": [
    "ngram_vectorizer = CountVectorizer(ngram_range = (2, 2))\n",
    "\n",
    "feature_vector = ngram_vectorizer.fit_transform(x)\n",
    "\n",
    "feature_vector.shape"
   ]
  },
  {
   "cell_type": "code",
   "execution_count": 53,
   "metadata": {},
   "outputs": [
    {
     "data": {
      "text/plain": [
       "(3000, 400938)"
      ]
     },
     "execution_count": 53,
     "metadata": {},
     "output_type": "execute_result"
    }
   ],
   "source": [
    "x_dense = feature_vector.todense()\n",
    "\n",
    "x_dense.shape"
   ]
  },
  {
   "cell_type": "code",
   "execution_count": 54,
   "metadata": {},
   "outputs": [],
   "source": [
    "x_train, x_test, y_train, y_test = train_test_split(x_dense, y, test_size = 0.25)"
   ]
  },
  {
   "cell_type": "code",
   "execution_count": 55,
   "metadata": {},
   "outputs": [],
   "source": [
    "clf = GaussianNB().fit(x_train, y_train)"
   ]
  },
  {
   "cell_type": "code",
   "execution_count": 56,
   "metadata": {},
   "outputs": [
    {
     "data": {
      "text/plain": [
       "array([16,  8,  4,  7,  3, 16,  0,  6,  6, 12])"
      ]
     },
     "execution_count": 56,
     "metadata": {},
     "output_type": "execute_result"
    }
   ],
   "source": [
    "y_pred = clf.predict(x_test)\n",
    "\n",
    "y_pred[0:10]"
   ]
  },
  {
   "cell_type": "code",
   "execution_count": 57,
   "metadata": {},
   "outputs": [
    {
     "name": "stdout",
     "output_type": "stream",
     "text": [
      "Length of testing data:  750\n",
      "accuracy_count :  561\n",
      "accuracy_score :  0.748\n"
     ]
    }
   ],
   "source": [
    "classification_details(y_test.values, y_pred)"
   ]
  },
  {
   "cell_type": "code",
   "execution_count": null,
   "metadata": {},
   "outputs": [],
   "source": []
  }
 ],
 "metadata": {
  "kernelspec": {
   "display_name": "Python 3",
   "language": "python",
   "name": "python3"
  },
  "language_info": {
   "codemirror_mode": {
    "name": "ipython",
    "version": 3
   },
   "file_extension": ".py",
   "mimetype": "text/x-python",
   "name": "python",
   "nbconvert_exporter": "python",
   "pygments_lexer": "ipython3",
   "version": "3.7.4"
  }
 },
 "nbformat": 4,
 "nbformat_minor": 2
}
