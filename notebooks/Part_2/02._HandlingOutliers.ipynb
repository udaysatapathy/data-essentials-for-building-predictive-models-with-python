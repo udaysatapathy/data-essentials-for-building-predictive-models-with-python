{
 "cells": [
  {
   "cell_type": "code",
   "execution_count": 1,
   "metadata": {},
   "outputs": [],
   "source": [
    "import pandas as pd"
   ]
  },
  {
   "cell_type": "markdown",
   "metadata": {},
   "source": [
    "### The advertising dataset\n",
    "\n",
    "https://www.kaggle.com/fayomi/advertising"
   ]
  },
  {
   "cell_type": "code",
   "execution_count": 54,
   "metadata": {},
   "outputs": [
    {
     "data": {
      "text/html": [
       "<div>\n",
       "<style scoped>\n",
       "    .dataframe tbody tr th:only-of-type {\n",
       "        vertical-align: middle;\n",
       "    }\n",
       "\n",
       "    .dataframe tbody tr th {\n",
       "        vertical-align: top;\n",
       "    }\n",
       "\n",
       "    .dataframe thead th {\n",
       "        text-align: right;\n",
       "    }\n",
       "</style>\n",
       "<table border=\"1\" class=\"dataframe\">\n",
       "  <thead>\n",
       "    <tr style=\"text-align: right;\">\n",
       "      <th></th>\n",
       "      <th>Daily Time Spent on Site</th>\n",
       "      <th>Age</th>\n",
       "      <th>Area Income</th>\n",
       "      <th>Daily Internet Usage</th>\n",
       "      <th>Ad Topic Line</th>\n",
       "      <th>City</th>\n",
       "      <th>Male</th>\n",
       "      <th>Country</th>\n",
       "      <th>Timestamp</th>\n",
       "      <th>Clicked on Ad</th>\n",
       "    </tr>\n",
       "  </thead>\n",
       "  <tbody>\n",
       "    <tr>\n",
       "      <td>0</td>\n",
       "      <td>68.95</td>\n",
       "      <td>35</td>\n",
       "      <td>61833.90</td>\n",
       "      <td>256.09</td>\n",
       "      <td>Cloned 5thgeneration orchestration</td>\n",
       "      <td>Wrightburgh</td>\n",
       "      <td>0</td>\n",
       "      <td>Tunisia</td>\n",
       "      <td>2016-03-27 00:53:11</td>\n",
       "      <td>0</td>\n",
       "    </tr>\n",
       "    <tr>\n",
       "      <td>1</td>\n",
       "      <td>80.23</td>\n",
       "      <td>31</td>\n",
       "      <td>68441.85</td>\n",
       "      <td>193.77</td>\n",
       "      <td>Monitored national standardization</td>\n",
       "      <td>West Jodi</td>\n",
       "      <td>1</td>\n",
       "      <td>Nauru</td>\n",
       "      <td>2016-04-04 01:39:02</td>\n",
       "      <td>0</td>\n",
       "    </tr>\n",
       "    <tr>\n",
       "      <td>2</td>\n",
       "      <td>69.47</td>\n",
       "      <td>26</td>\n",
       "      <td>59785.94</td>\n",
       "      <td>236.50</td>\n",
       "      <td>Organic bottom-line service-desk</td>\n",
       "      <td>Davidton</td>\n",
       "      <td>0</td>\n",
       "      <td>San Marino</td>\n",
       "      <td>2016-03-13 20:35:42</td>\n",
       "      <td>0</td>\n",
       "    </tr>\n",
       "    <tr>\n",
       "      <td>3</td>\n",
       "      <td>74.15</td>\n",
       "      <td>29</td>\n",
       "      <td>54806.18</td>\n",
       "      <td>245.89</td>\n",
       "      <td>Triple-buffered reciprocal time-frame</td>\n",
       "      <td>West Terrifurt</td>\n",
       "      <td>1</td>\n",
       "      <td>Italy</td>\n",
       "      <td>2016-01-10 02:31:19</td>\n",
       "      <td>0</td>\n",
       "    </tr>\n",
       "    <tr>\n",
       "      <td>4</td>\n",
       "      <td>68.37</td>\n",
       "      <td>35</td>\n",
       "      <td>73889.99</td>\n",
       "      <td>225.58</td>\n",
       "      <td>Robust logistical utilization</td>\n",
       "      <td>South Manuel</td>\n",
       "      <td>0</td>\n",
       "      <td>Iceland</td>\n",
       "      <td>2016-06-03 03:36:18</td>\n",
       "      <td>0</td>\n",
       "    </tr>\n",
       "  </tbody>\n",
       "</table>\n",
       "</div>"
      ],
      "text/plain": [
       "   Daily Time Spent on Site  Age  Area Income  Daily Internet Usage  \\\n",
       "0                     68.95   35     61833.90                256.09   \n",
       "1                     80.23   31     68441.85                193.77   \n",
       "2                     69.47   26     59785.94                236.50   \n",
       "3                     74.15   29     54806.18                245.89   \n",
       "4                     68.37   35     73889.99                225.58   \n",
       "\n",
       "                           Ad Topic Line            City  Male     Country  \\\n",
       "0     Cloned 5thgeneration orchestration     Wrightburgh     0     Tunisia   \n",
       "1     Monitored national standardization       West Jodi     1       Nauru   \n",
       "2       Organic bottom-line service-desk        Davidton     0  San Marino   \n",
       "3  Triple-buffered reciprocal time-frame  West Terrifurt     1       Italy   \n",
       "4          Robust logistical utilization    South Manuel     0     Iceland   \n",
       "\n",
       "             Timestamp  Clicked on Ad  \n",
       "0  2016-03-27 00:53:11              0  \n",
       "1  2016-04-04 01:39:02              0  \n",
       "2  2016-03-13 20:35:42              0  \n",
       "3  2016-01-10 02:31:19              0  \n",
       "4  2016-06-03 03:36:18              0  "
      ]
     },
     "execution_count": 54,
     "metadata": {},
     "output_type": "execute_result"
    }
   ],
   "source": [
    "advertising_data = pd.read_csv(\"datasets/advertising_outliers.csv\")\n",
    "\n",
    "advertising_data.head(5)"
   ]
  },
  {
   "cell_type": "code",
   "execution_count": 55,
   "metadata": {},
   "outputs": [
    {
     "data": {
      "text/html": [
       "<div>\n",
       "<style scoped>\n",
       "    .dataframe tbody tr th:only-of-type {\n",
       "        vertical-align: middle;\n",
       "    }\n",
       "\n",
       "    .dataframe tbody tr th {\n",
       "        vertical-align: top;\n",
       "    }\n",
       "\n",
       "    .dataframe thead th {\n",
       "        text-align: right;\n",
       "    }\n",
       "</style>\n",
       "<table border=\"1\" class=\"dataframe\">\n",
       "  <thead>\n",
       "    <tr style=\"text-align: right;\">\n",
       "      <th></th>\n",
       "      <th>Daily Time Spent on Site</th>\n",
       "      <th>Age</th>\n",
       "      <th>Area Income</th>\n",
       "      <th>Daily Internet Usage</th>\n",
       "      <th>Ad Topic Line</th>\n",
       "      <th>City</th>\n",
       "      <th>Male</th>\n",
       "      <th>Country</th>\n",
       "      <th>Timestamp</th>\n",
       "      <th>Clicked on Ad</th>\n",
       "    </tr>\n",
       "  </thead>\n",
       "  <tbody>\n",
       "    <tr>\n",
       "      <td>43</td>\n",
       "      <td>81.38</td>\n",
       "      <td>150</td>\n",
       "      <td>64929.61</td>\n",
       "      <td>212.3</td>\n",
       "      <td>Balanced dynamic application</td>\n",
       "      <td>Bowenview</td>\n",
       "      <td>0</td>\n",
       "      <td>Saint Helena</td>\n",
       "      <td>2016-02-08 00:23:38</td>\n",
       "      <td>0</td>\n",
       "    </tr>\n",
       "    <tr>\n",
       "      <td>54</td>\n",
       "      <td>62.31</td>\n",
       "      <td>120</td>\n",
       "      <td>62722.57</td>\n",
       "      <td>119.3</td>\n",
       "      <td>Team-oriented encompassing portal</td>\n",
       "      <td>Amandahaven</td>\n",
       "      <td>0</td>\n",
       "      <td>Turkey</td>\n",
       "      <td>2016-02-14 07:36:58</td>\n",
       "      <td>1</td>\n",
       "    </tr>\n",
       "  </tbody>\n",
       "</table>\n",
       "</div>"
      ],
      "text/plain": [
       "    Daily Time Spent on Site  Age  Area Income  Daily Internet Usage  \\\n",
       "43                     81.38  150     64929.61                 212.3   \n",
       "54                     62.31  120     62722.57                 119.3   \n",
       "\n",
       "                        Ad Topic Line         City  Male       Country  \\\n",
       "43       Balanced dynamic application    Bowenview     0  Saint Helena   \n",
       "54  Team-oriented encompassing portal  Amandahaven     0        Turkey   \n",
       "\n",
       "              Timestamp  Clicked on Ad  \n",
       "43  2016-02-08 00:23:38              0  \n",
       "54  2016-02-14 07:36:58              1  "
      ]
     },
     "execution_count": 55,
     "metadata": {},
     "output_type": "execute_result"
    }
   ],
   "source": [
    "advertising_data.loc[advertising_data[\"Age\"] > 100]"
   ]
  },
  {
   "cell_type": "code",
   "execution_count": 56,
   "metadata": {},
   "outputs": [
    {
     "data": {
      "text/html": [
       "<div>\n",
       "<style scoped>\n",
       "    .dataframe tbody tr th:only-of-type {\n",
       "        vertical-align: middle;\n",
       "    }\n",
       "\n",
       "    .dataframe tbody tr th {\n",
       "        vertical-align: top;\n",
       "    }\n",
       "\n",
       "    .dataframe thead th {\n",
       "        text-align: right;\n",
       "    }\n",
       "</style>\n",
       "<table border=\"1\" class=\"dataframe\">\n",
       "  <thead>\n",
       "    <tr style=\"text-align: right;\">\n",
       "      <th></th>\n",
       "      <th>Daily Time Spent on Site</th>\n",
       "      <th>Age</th>\n",
       "      <th>Area Income</th>\n",
       "      <th>Daily Internet Usage</th>\n",
       "      <th>Ad Topic Line</th>\n",
       "      <th>City</th>\n",
       "      <th>Male</th>\n",
       "      <th>Country</th>\n",
       "      <th>Timestamp</th>\n",
       "      <th>Clicked on Ad</th>\n",
       "    </tr>\n",
       "  </thead>\n",
       "  <tbody>\n",
       "    <tr>\n",
       "      <td>11</td>\n",
       "      <td>83.07</td>\n",
       "      <td>-10</td>\n",
       "      <td>62491.01</td>\n",
       "      <td>230.87</td>\n",
       "      <td>Team-oriented grid-enabled Local Area Network</td>\n",
       "      <td>East Theresashire</td>\n",
       "      <td>1</td>\n",
       "      <td>Burundi</td>\n",
       "      <td>2016-05-08 08:10:10</td>\n",
       "      <td>0</td>\n",
       "    </tr>\n",
       "  </tbody>\n",
       "</table>\n",
       "</div>"
      ],
      "text/plain": [
       "    Daily Time Spent on Site  Age  Area Income  Daily Internet Usage  \\\n",
       "11                     83.07  -10     62491.01                230.87   \n",
       "\n",
       "                                    Ad Topic Line               City  Male  \\\n",
       "11  Team-oriented grid-enabled Local Area Network  East Theresashire     1   \n",
       "\n",
       "    Country            Timestamp  Clicked on Ad  \n",
       "11  Burundi  2016-05-08 08:10:10              0  "
      ]
     },
     "execution_count": 56,
     "metadata": {},
     "output_type": "execute_result"
    }
   ],
   "source": [
    "advertising_data.loc[advertising_data[\"Age\"] < 0]"
   ]
  },
  {
   "cell_type": "code",
   "execution_count": 31,
   "metadata": {},
   "outputs": [
    {
     "data": {
      "text/html": [
       "<div>\n",
       "<style scoped>\n",
       "    .dataframe tbody tr th:only-of-type {\n",
       "        vertical-align: middle;\n",
       "    }\n",
       "\n",
       "    .dataframe tbody tr th {\n",
       "        vertical-align: top;\n",
       "    }\n",
       "\n",
       "    .dataframe thead th {\n",
       "        text-align: right;\n",
       "    }\n",
       "</style>\n",
       "<table border=\"1\" class=\"dataframe\">\n",
       "  <thead>\n",
       "    <tr style=\"text-align: right;\">\n",
       "      <th></th>\n",
       "      <th>Daily Time Spent on Site</th>\n",
       "      <th>Age</th>\n",
       "      <th>Area Income</th>\n",
       "      <th>Daily Internet Usage</th>\n",
       "      <th>Ad Topic Line</th>\n",
       "      <th>City</th>\n",
       "      <th>Male</th>\n",
       "      <th>Country</th>\n",
       "      <th>Timestamp</th>\n",
       "      <th>Clicked on Ad</th>\n",
       "    </tr>\n",
       "  </thead>\n",
       "  <tbody>\n",
       "    <tr>\n",
       "      <td>78</td>\n",
       "      <td>56.14</td>\n",
       "      <td>87</td>\n",
       "      <td>32689.04</td>\n",
       "      <td>113.53</td>\n",
       "      <td>Devolved tangible approach</td>\n",
       "      <td>Lake Edward</td>\n",
       "      <td>1</td>\n",
       "      <td>Ireland</td>\n",
       "      <td>2016-02-03 07:59:16</td>\n",
       "      <td>1</td>\n",
       "    </tr>\n",
       "    <tr>\n",
       "      <td>81</td>\n",
       "      <td>73.46</td>\n",
       "      <td>90</td>\n",
       "      <td>65653.47</td>\n",
       "      <td>222.75</td>\n",
       "      <td>Innovative executive encoding</td>\n",
       "      <td>West Joseph</td>\n",
       "      <td>1</td>\n",
       "      <td>Nicaragua</td>\n",
       "      <td>2016-05-15 14:41:49</td>\n",
       "      <td>0</td>\n",
       "    </tr>\n",
       "    <tr>\n",
       "      <td>83</td>\n",
       "      <td>68.94</td>\n",
       "      <td>85</td>\n",
       "      <td>30726.26</td>\n",
       "      <td>138.71</td>\n",
       "      <td>Streamlined next generation implementation</td>\n",
       "      <td>East Tylershire</td>\n",
       "      <td>0</td>\n",
       "      <td>Timor-Leste</td>\n",
       "      <td>2016-04-19 07:34:28</td>\n",
       "      <td>1</td>\n",
       "    </tr>\n",
       "    <tr>\n",
       "      <td>86</td>\n",
       "      <td>77.51</td>\n",
       "      <td>80</td>\n",
       "      <td>73600.28</td>\n",
       "      <td>200.55</td>\n",
       "      <td>Total 5thgeneration encoding</td>\n",
       "      <td>North Kristine</td>\n",
       "      <td>0</td>\n",
       "      <td>Central African Republic</td>\n",
       "      <td>2016-07-01 04:41:57</td>\n",
       "      <td>0</td>\n",
       "    </tr>\n",
       "    <tr>\n",
       "      <td>101</td>\n",
       "      <td>63.60</td>\n",
       "      <td>86</td>\n",
       "      <td>51864.77</td>\n",
       "      <td>235.28</td>\n",
       "      <td>Centralized logistical secured line</td>\n",
       "      <td>Youngburgh</td>\n",
       "      <td>1</td>\n",
       "      <td>Serbia</td>\n",
       "      <td>2016-06-01 09:27:34</td>\n",
       "      <td>0</td>\n",
       "    </tr>\n",
       "  </tbody>\n",
       "</table>\n",
       "</div>"
      ],
      "text/plain": [
       "     Daily Time Spent on Site  Age  Area Income  Daily Internet Usage  \\\n",
       "78                      56.14   87     32689.04                113.53   \n",
       "81                      73.46   90     65653.47                222.75   \n",
       "83                      68.94   85     30726.26                138.71   \n",
       "86                      77.51   80     73600.28                200.55   \n",
       "101                     63.60   86     51864.77                235.28   \n",
       "\n",
       "                                  Ad Topic Line             City  Male  \\\n",
       "78                   Devolved tangible approach      Lake Edward     1   \n",
       "81                Innovative executive encoding      West Joseph     1   \n",
       "83   Streamlined next generation implementation  East Tylershire     0   \n",
       "86                 Total 5thgeneration encoding   North Kristine     0   \n",
       "101         Centralized logistical secured line       Youngburgh     1   \n",
       "\n",
       "                      Country            Timestamp  Clicked on Ad  \n",
       "78                    Ireland  2016-02-03 07:59:16              1  \n",
       "81                  Nicaragua  2016-05-15 14:41:49              0  \n",
       "83                Timor-Leste  2016-04-19 07:34:28              1  \n",
       "86   Central African Republic  2016-07-01 04:41:57              0  \n",
       "101                    Serbia  2016-06-01 09:27:34              0  "
      ]
     },
     "execution_count": 31,
     "metadata": {},
     "output_type": "execute_result"
    }
   ],
   "source": [
    "advertising_data[((advertising_data['Age'] >= 80) & (advertising_data['Age'] <= 90))]"
   ]
  },
  {
   "cell_type": "code",
   "execution_count": 32,
   "metadata": {},
   "outputs": [
    {
     "data": {
      "text/plain": [
       "<matplotlib.axes._subplots.AxesSubplot at 0x121cd5b50>"
      ]
     },
     "execution_count": 32,
     "metadata": {},
     "output_type": "execute_result"
    },
    {
     "data": {
      "image/png": "[encoded data removed]",
      "text/plain": [
       "<Figure size 720x576 with 1 Axes>"
      ]
     },
     "metadata": {
      "needs_background": "light"
     },
     "output_type": "display_data"
    }
   ],
   "source": [
    "advertising_data.boxplot(figsize = (10, 8),\n",
    "                         fontsize = 15,\n",
    "                         column = [\"Age\"])"
   ]
  },
  {
   "cell_type": "markdown",
   "metadata": {},
   "source": [
    "### Standardize the age data\n",
    "\n",
    "This will express the data in terms of z-scores i.e. number of standard deviations away from the mean"
   ]
  },
  {
   "cell_type": "code",
   "execution_count": 33,
   "metadata": {},
   "outputs": [],
   "source": [
    "from sklearn.preprocessing import StandardScaler\n",
    "\n",
    "scaler = StandardScaler()\n",
    "\n",
    "scaled_age = scaler.fit_transform(advertising_data[\"Age\"].values.reshape(-1, 1))"
   ]
  },
  {
   "cell_type": "code",
   "execution_count": 34,
   "metadata": {},
   "outputs": [
    {
     "data": {
      "text/plain": [
       "(1000, 1)"
      ]
     },
     "execution_count": 34,
     "metadata": {},
     "output_type": "execute_result"
    }
   ],
   "source": [
    "scaled_age.shape"
   ]
  },
  {
   "cell_type": "code",
   "execution_count": 35,
   "metadata": {},
   "outputs": [
    {
     "data": {
      "text/html": [
       "<div>\n",
       "<style scoped>\n",
       "    .dataframe tbody tr th:only-of-type {\n",
       "        vertical-align: middle;\n",
       "    }\n",
       "\n",
       "    .dataframe tbody tr th {\n",
       "        vertical-align: top;\n",
       "    }\n",
       "\n",
       "    .dataframe thead th {\n",
       "        text-align: right;\n",
       "    }\n",
       "</style>\n",
       "<table border=\"1\" class=\"dataframe\">\n",
       "  <thead>\n",
       "    <tr style=\"text-align: right;\">\n",
       "      <th></th>\n",
       "      <th>Daily Time Spent on Site</th>\n",
       "      <th>Age</th>\n",
       "      <th>Area Income</th>\n",
       "      <th>Daily Internet Usage</th>\n",
       "      <th>Ad Topic Line</th>\n",
       "      <th>City</th>\n",
       "      <th>Male</th>\n",
       "      <th>Country</th>\n",
       "      <th>Timestamp</th>\n",
       "      <th>Clicked on Ad</th>\n",
       "      <th>Scaled_Age</th>\n",
       "    </tr>\n",
       "  </thead>\n",
       "  <tbody>\n",
       "    <tr>\n",
       "      <td>0</td>\n",
       "      <td>68.95</td>\n",
       "      <td>35</td>\n",
       "      <td>61833.90</td>\n",
       "      <td>256.09</td>\n",
       "      <td>Cloned 5thgeneration orchestration</td>\n",
       "      <td>Wrightburgh</td>\n",
       "      <td>0</td>\n",
       "      <td>Tunisia</td>\n",
       "      <td>2016-03-27 00:53:11</td>\n",
       "      <td>0</td>\n",
       "      <td>-0.133311</td>\n",
       "    </tr>\n",
       "    <tr>\n",
       "      <td>1</td>\n",
       "      <td>80.23</td>\n",
       "      <td>31</td>\n",
       "      <td>68441.85</td>\n",
       "      <td>193.77</td>\n",
       "      <td>Monitored national standardization</td>\n",
       "      <td>West Jodi</td>\n",
       "      <td>1</td>\n",
       "      <td>Nauru</td>\n",
       "      <td>2016-04-04 01:39:02</td>\n",
       "      <td>0</td>\n",
       "      <td>-0.513384</td>\n",
       "    </tr>\n",
       "    <tr>\n",
       "      <td>2</td>\n",
       "      <td>69.47</td>\n",
       "      <td>26</td>\n",
       "      <td>59785.94</td>\n",
       "      <td>236.50</td>\n",
       "      <td>Organic bottom-line service-desk</td>\n",
       "      <td>Davidton</td>\n",
       "      <td>0</td>\n",
       "      <td>San Marino</td>\n",
       "      <td>2016-03-13 20:35:42</td>\n",
       "      <td>0</td>\n",
       "      <td>-0.988476</td>\n",
       "    </tr>\n",
       "    <tr>\n",
       "      <td>3</td>\n",
       "      <td>74.15</td>\n",
       "      <td>29</td>\n",
       "      <td>54806.18</td>\n",
       "      <td>245.89</td>\n",
       "      <td>Triple-buffered reciprocal time-frame</td>\n",
       "      <td>West Terrifurt</td>\n",
       "      <td>1</td>\n",
       "      <td>Italy</td>\n",
       "      <td>2016-01-10 02:31:19</td>\n",
       "      <td>0</td>\n",
       "      <td>-0.703421</td>\n",
       "    </tr>\n",
       "    <tr>\n",
       "      <td>4</td>\n",
       "      <td>68.37</td>\n",
       "      <td>35</td>\n",
       "      <td>73889.99</td>\n",
       "      <td>225.58</td>\n",
       "      <td>Robust logistical utilization</td>\n",
       "      <td>South Manuel</td>\n",
       "      <td>0</td>\n",
       "      <td>Iceland</td>\n",
       "      <td>2016-06-03 03:36:18</td>\n",
       "      <td>0</td>\n",
       "      <td>-0.133311</td>\n",
       "    </tr>\n",
       "  </tbody>\n",
       "</table>\n",
       "</div>"
      ],
      "text/plain": [
       "   Daily Time Spent on Site  Age  Area Income  Daily Internet Usage  \\\n",
       "0                     68.95   35     61833.90                256.09   \n",
       "1                     80.23   31     68441.85                193.77   \n",
       "2                     69.47   26     59785.94                236.50   \n",
       "3                     74.15   29     54806.18                245.89   \n",
       "4                     68.37   35     73889.99                225.58   \n",
       "\n",
       "                           Ad Topic Line            City  Male     Country  \\\n",
       "0     Cloned 5thgeneration orchestration     Wrightburgh     0     Tunisia   \n",
       "1     Monitored national standardization       West Jodi     1       Nauru   \n",
       "2       Organic bottom-line service-desk        Davidton     0  San Marino   \n",
       "3  Triple-buffered reciprocal time-frame  West Terrifurt     1       Italy   \n",
       "4          Robust logistical utilization    South Manuel     0     Iceland   \n",
       "\n",
       "             Timestamp  Clicked on Ad  Scaled_Age  \n",
       "0  2016-03-27 00:53:11              0   -0.133311  \n",
       "1  2016-04-04 01:39:02              0   -0.513384  \n",
       "2  2016-03-13 20:35:42              0   -0.988476  \n",
       "3  2016-01-10 02:31:19              0   -0.703421  \n",
       "4  2016-06-03 03:36:18              0   -0.133311  "
      ]
     },
     "execution_count": 35,
     "metadata": {},
     "output_type": "execute_result"
    }
   ],
   "source": [
    "advertising_data[\"Scaled_Age\"] = scaled_age\n",
    "\n",
    "advertising_data.head(5)"
   ]
  },
  {
   "cell_type": "markdown",
   "metadata": {},
   "source": [
    "### Mean = 0, variance = 1\n",
    "\n",
    "Standardized data has a mean of 0 and a variance (standard deviation) of 1"
   ]
  },
  {
   "cell_type": "code",
   "execution_count": 36,
   "metadata": {},
   "outputs": [
    {
     "data": {
      "text/html": [
       "<div>\n",
       "<style scoped>\n",
       "    .dataframe tbody tr th:only-of-type {\n",
       "        vertical-align: middle;\n",
       "    }\n",
       "\n",
       "    .dataframe tbody tr th {\n",
       "        vertical-align: top;\n",
       "    }\n",
       "\n",
       "    .dataframe thead th {\n",
       "        text-align: right;\n",
       "    }\n",
       "</style>\n",
       "<table border=\"1\" class=\"dataframe\">\n",
       "  <thead>\n",
       "    <tr style=\"text-align: right;\">\n",
       "      <th></th>\n",
       "      <th>Daily Time Spent on Site</th>\n",
       "      <th>Age</th>\n",
       "      <th>Area Income</th>\n",
       "      <th>Daily Internet Usage</th>\n",
       "      <th>Male</th>\n",
       "      <th>Clicked on Ad</th>\n",
       "      <th>Scaled_Age</th>\n",
       "    </tr>\n",
       "  </thead>\n",
       "  <tbody>\n",
       "    <tr>\n",
       "      <td>count</td>\n",
       "      <td>1000.000000</td>\n",
       "      <td>1000.000000</td>\n",
       "      <td>1000.000000</td>\n",
       "      <td>1000.000000</td>\n",
       "      <td>1000.000000</td>\n",
       "      <td>1000.00000</td>\n",
       "      <td>1.000000e+03</td>\n",
       "    </tr>\n",
       "    <tr>\n",
       "      <td>mean</td>\n",
       "      <td>65.000200</td>\n",
       "      <td>36.403000</td>\n",
       "      <td>55000.000080</td>\n",
       "      <td>180.000100</td>\n",
       "      <td>0.481000</td>\n",
       "      <td>0.50000</td>\n",
       "      <td>9.248158e-17</td>\n",
       "    </tr>\n",
       "    <tr>\n",
       "      <td>std</td>\n",
       "      <td>15.853615</td>\n",
       "      <td>10.529552</td>\n",
       "      <td>13414.634022</td>\n",
       "      <td>43.902339</td>\n",
       "      <td>0.499889</td>\n",
       "      <td>0.50025</td>\n",
       "      <td>1.000500e+00</td>\n",
       "    </tr>\n",
       "    <tr>\n",
       "      <td>min</td>\n",
       "      <td>32.600000</td>\n",
       "      <td>-10.000000</td>\n",
       "      <td>13996.500000</td>\n",
       "      <td>104.780000</td>\n",
       "      <td>0.000000</td>\n",
       "      <td>0.00000</td>\n",
       "      <td>-4.409135e+00</td>\n",
       "    </tr>\n",
       "    <tr>\n",
       "      <td>25%</td>\n",
       "      <td>51.360000</td>\n",
       "      <td>29.000000</td>\n",
       "      <td>47031.802500</td>\n",
       "      <td>138.830000</td>\n",
       "      <td>0.000000</td>\n",
       "      <td>0.00000</td>\n",
       "      <td>-7.034207e-01</td>\n",
       "    </tr>\n",
       "    <tr>\n",
       "      <td>50%</td>\n",
       "      <td>68.215000</td>\n",
       "      <td>35.000000</td>\n",
       "      <td>57012.300000</td>\n",
       "      <td>183.130000</td>\n",
       "      <td>0.000000</td>\n",
       "      <td>0.50000</td>\n",
       "      <td>-1.333107e-01</td>\n",
       "    </tr>\n",
       "    <tr>\n",
       "      <td>75%</td>\n",
       "      <td>78.547500</td>\n",
       "      <td>42.000000</td>\n",
       "      <td>65470.635000</td>\n",
       "      <td>218.792500</td>\n",
       "      <td>1.000000</td>\n",
       "      <td>1.00000</td>\n",
       "      <td>5.318176e-01</td>\n",
       "    </tr>\n",
       "    <tr>\n",
       "      <td>max</td>\n",
       "      <td>91.430000</td>\n",
       "      <td>150.000000</td>\n",
       "      <td>79484.800000</td>\n",
       "      <td>269.960000</td>\n",
       "      <td>1.000000</td>\n",
       "      <td>1.00000</td>\n",
       "      <td>1.079380e+01</td>\n",
       "    </tr>\n",
       "  </tbody>\n",
       "</table>\n",
       "</div>"
      ],
      "text/plain": [
       "       Daily Time Spent on Site          Age   Area Income  \\\n",
       "count               1000.000000  1000.000000   1000.000000   \n",
       "mean                  65.000200    36.403000  55000.000080   \n",
       "std                   15.853615    10.529552  13414.634022   \n",
       "min                   32.600000   -10.000000  13996.500000   \n",
       "25%                   51.360000    29.000000  47031.802500   \n",
       "50%                   68.215000    35.000000  57012.300000   \n",
       "75%                   78.547500    42.000000  65470.635000   \n",
       "max                   91.430000   150.000000  79484.800000   \n",
       "\n",
       "       Daily Internet Usage         Male  Clicked on Ad    Scaled_Age  \n",
       "count           1000.000000  1000.000000     1000.00000  1.000000e+03  \n",
       "mean             180.000100     0.481000        0.50000  9.248158e-17  \n",
       "std               43.902339     0.499889        0.50025  1.000500e+00  \n",
       "min              104.780000     0.000000        0.00000 -4.409135e+00  \n",
       "25%              138.830000     0.000000        0.00000 -7.034207e-01  \n",
       "50%              183.130000     0.000000        0.50000 -1.333107e-01  \n",
       "75%              218.792500     1.000000        1.00000  5.318176e-01  \n",
       "max              269.960000     1.000000        1.00000  1.079380e+01  "
      ]
     },
     "execution_count": 36,
     "metadata": {},
     "output_type": "execute_result"
    }
   ],
   "source": [
    "advertising_data.describe()"
   ]
  },
  {
   "cell_type": "markdown",
   "metadata": {},
   "source": [
    "### Outliers could be data points which are greater than 3 standard deviations away from the mean"
   ]
  },
  {
   "cell_type": "code",
   "execution_count": 37,
   "metadata": {},
   "outputs": [
    {
     "data": {
      "text/html": [
       "<div>\n",
       "<style scoped>\n",
       "    .dataframe tbody tr th:only-of-type {\n",
       "        vertical-align: middle;\n",
       "    }\n",
       "\n",
       "    .dataframe tbody tr th {\n",
       "        vertical-align: top;\n",
       "    }\n",
       "\n",
       "    .dataframe thead th {\n",
       "        text-align: right;\n",
       "    }\n",
       "</style>\n",
       "<table border=\"1\" class=\"dataframe\">\n",
       "  <thead>\n",
       "    <tr style=\"text-align: right;\">\n",
       "      <th></th>\n",
       "      <th>Daily Time Spent on Site</th>\n",
       "      <th>Age</th>\n",
       "      <th>Area Income</th>\n",
       "      <th>Daily Internet Usage</th>\n",
       "      <th>Ad Topic Line</th>\n",
       "      <th>City</th>\n",
       "      <th>Male</th>\n",
       "      <th>Country</th>\n",
       "      <th>Timestamp</th>\n",
       "      <th>Clicked on Ad</th>\n",
       "      <th>Scaled_Age</th>\n",
       "    </tr>\n",
       "  </thead>\n",
       "  <tbody>\n",
       "    <tr>\n",
       "      <td>43</td>\n",
       "      <td>81.38</td>\n",
       "      <td>150</td>\n",
       "      <td>64929.61</td>\n",
       "      <td>212.30</td>\n",
       "      <td>Balanced dynamic application</td>\n",
       "      <td>Bowenview</td>\n",
       "      <td>0</td>\n",
       "      <td>Saint Helena</td>\n",
       "      <td>2016-02-08 00:23:38</td>\n",
       "      <td>0</td>\n",
       "      <td>10.793797</td>\n",
       "    </tr>\n",
       "    <tr>\n",
       "      <td>54</td>\n",
       "      <td>62.31</td>\n",
       "      <td>120</td>\n",
       "      <td>62722.57</td>\n",
       "      <td>119.30</td>\n",
       "      <td>Team-oriented encompassing portal</td>\n",
       "      <td>Amandahaven</td>\n",
       "      <td>0</td>\n",
       "      <td>Turkey</td>\n",
       "      <td>2016-02-14 07:36:58</td>\n",
       "      <td>1</td>\n",
       "      <td>7.943247</td>\n",
       "    </tr>\n",
       "    <tr>\n",
       "      <td>78</td>\n",
       "      <td>56.14</td>\n",
       "      <td>87</td>\n",
       "      <td>32689.04</td>\n",
       "      <td>113.53</td>\n",
       "      <td>Devolved tangible approach</td>\n",
       "      <td>Lake Edward</td>\n",
       "      <td>1</td>\n",
       "      <td>Ireland</td>\n",
       "      <td>2016-02-03 07:59:16</td>\n",
       "      <td>1</td>\n",
       "      <td>4.807642</td>\n",
       "    </tr>\n",
       "    <tr>\n",
       "      <td>81</td>\n",
       "      <td>73.46</td>\n",
       "      <td>90</td>\n",
       "      <td>65653.47</td>\n",
       "      <td>222.75</td>\n",
       "      <td>Innovative executive encoding</td>\n",
       "      <td>West Joseph</td>\n",
       "      <td>1</td>\n",
       "      <td>Nicaragua</td>\n",
       "      <td>2016-05-15 14:41:49</td>\n",
       "      <td>0</td>\n",
       "      <td>5.092697</td>\n",
       "    </tr>\n",
       "    <tr>\n",
       "      <td>83</td>\n",
       "      <td>68.94</td>\n",
       "      <td>85</td>\n",
       "      <td>30726.26</td>\n",
       "      <td>138.71</td>\n",
       "      <td>Streamlined next generation implementation</td>\n",
       "      <td>East Tylershire</td>\n",
       "      <td>0</td>\n",
       "      <td>Timor-Leste</td>\n",
       "      <td>2016-04-19 07:34:28</td>\n",
       "      <td>1</td>\n",
       "      <td>4.617606</td>\n",
       "    </tr>\n",
       "    <tr>\n",
       "      <td>86</td>\n",
       "      <td>77.51</td>\n",
       "      <td>80</td>\n",
       "      <td>73600.28</td>\n",
       "      <td>200.55</td>\n",
       "      <td>Total 5thgeneration encoding</td>\n",
       "      <td>North Kristine</td>\n",
       "      <td>0</td>\n",
       "      <td>Central African Republic</td>\n",
       "      <td>2016-07-01 04:41:57</td>\n",
       "      <td>0</td>\n",
       "      <td>4.142514</td>\n",
       "    </tr>\n",
       "    <tr>\n",
       "      <td>101</td>\n",
       "      <td>63.60</td>\n",
       "      <td>86</td>\n",
       "      <td>51864.77</td>\n",
       "      <td>235.28</td>\n",
       "      <td>Centralized logistical secured line</td>\n",
       "      <td>Youngburgh</td>\n",
       "      <td>1</td>\n",
       "      <td>Serbia</td>\n",
       "      <td>2016-06-01 09:27:34</td>\n",
       "      <td>0</td>\n",
       "      <td>4.712624</td>\n",
       "    </tr>\n",
       "  </tbody>\n",
       "</table>\n",
       "</div>"
      ],
      "text/plain": [
       "     Daily Time Spent on Site  Age  Area Income  Daily Internet Usage  \\\n",
       "43                      81.38  150     64929.61                212.30   \n",
       "54                      62.31  120     62722.57                119.30   \n",
       "78                      56.14   87     32689.04                113.53   \n",
       "81                      73.46   90     65653.47                222.75   \n",
       "83                      68.94   85     30726.26                138.71   \n",
       "86                      77.51   80     73600.28                200.55   \n",
       "101                     63.60   86     51864.77                235.28   \n",
       "\n",
       "                                  Ad Topic Line             City  Male  \\\n",
       "43                 Balanced dynamic application        Bowenview     0   \n",
       "54            Team-oriented encompassing portal      Amandahaven     0   \n",
       "78                   Devolved tangible approach      Lake Edward     1   \n",
       "81                Innovative executive encoding      West Joseph     1   \n",
       "83   Streamlined next generation implementation  East Tylershire     0   \n",
       "86                 Total 5thgeneration encoding   North Kristine     0   \n",
       "101         Centralized logistical secured line       Youngburgh     1   \n",
       "\n",
       "                      Country            Timestamp  Clicked on Ad  Scaled_Age  \n",
       "43               Saint Helena  2016-02-08 00:23:38              0   10.793797  \n",
       "54                     Turkey  2016-02-14 07:36:58              1    7.943247  \n",
       "78                    Ireland  2016-02-03 07:59:16              1    4.807642  \n",
       "81                  Nicaragua  2016-05-15 14:41:49              0    5.092697  \n",
       "83                Timor-Leste  2016-04-19 07:34:28              1    4.617606  \n",
       "86   Central African Republic  2016-07-01 04:41:57              0    4.142514  \n",
       "101                    Serbia  2016-06-01 09:27:34              0    4.712624  "
      ]
     },
     "execution_count": 37,
     "metadata": {},
     "output_type": "execute_result"
    }
   ],
   "source": [
    "outliers = advertising_data.loc[advertising_data[\"Scaled_Age\"] > 3]\n",
    "\n",
    "outliers"
   ]
  },
  {
   "cell_type": "code",
   "execution_count": 38,
   "metadata": {},
   "outputs": [
    {
     "data": {
      "text/plain": [
       "<matplotlib.axes._subplots.AxesSubplot at 0x121d0ae90>"
      ]
     },
     "execution_count": 38,
     "metadata": {},
     "output_type": "execute_result"
    },
    {
     "data": {
      "image/png": "[encoded data removed]",
      "text/plain": [
       "<Figure size 720x576 with 1 Axes>"
      ]
     },
     "metadata": {
      "needs_background": "light"
     },
     "output_type": "display_data"
    }
   ],
   "source": [
    "advertising_data.boxplot(figsize = (10, 8),\n",
    "                         fontsize = 15,\n",
    "                         column = [\"Scaled_Age\"])"
   ]
  },
  {
   "cell_type": "code",
   "execution_count": 39,
   "metadata": {},
   "outputs": [
    {
     "data": {
      "text/plain": [
       "Int64Index([43, 54], dtype='int64')"
      ]
     },
     "execution_count": 39,
     "metadata": {},
     "output_type": "execute_result"
    }
   ],
   "source": [
    "to_drop = advertising_data[advertising_data['Age'] > 100].index\n",
    "\n",
    "to_drop"
   ]
  },
  {
   "cell_type": "code",
   "execution_count": 40,
   "metadata": {},
   "outputs": [
    {
     "data": {
      "text/html": [
       "<div>\n",
       "<style scoped>\n",
       "    .dataframe tbody tr th:only-of-type {\n",
       "        vertical-align: middle;\n",
       "    }\n",
       "\n",
       "    .dataframe tbody tr th {\n",
       "        vertical-align: top;\n",
       "    }\n",
       "\n",
       "    .dataframe thead th {\n",
       "        text-align: right;\n",
       "    }\n",
       "</style>\n",
       "<table border=\"1\" class=\"dataframe\">\n",
       "  <thead>\n",
       "    <tr style=\"text-align: right;\">\n",
       "      <th></th>\n",
       "      <th>Daily Time Spent on Site</th>\n",
       "      <th>Age</th>\n",
       "      <th>Area Income</th>\n",
       "      <th>Daily Internet Usage</th>\n",
       "      <th>Ad Topic Line</th>\n",
       "      <th>City</th>\n",
       "      <th>Male</th>\n",
       "      <th>Country</th>\n",
       "      <th>Timestamp</th>\n",
       "      <th>Clicked on Ad</th>\n",
       "      <th>Scaled_Age</th>\n",
       "    </tr>\n",
       "  </thead>\n",
       "  <tbody>\n",
       "  </tbody>\n",
       "</table>\n",
       "</div>"
      ],
      "text/plain": [
       "Empty DataFrame\n",
       "Columns: [Daily Time Spent on Site, Age, Area Income, Daily Internet Usage, Ad Topic Line, City, Male, Country, Timestamp, Clicked on Ad, Scaled_Age]\n",
       "Index: []"
      ]
     },
     "execution_count": 40,
     "metadata": {},
     "output_type": "execute_result"
    }
   ],
   "source": [
    "advertising_data = advertising_data.drop(to_drop)\n",
    "\n",
    "advertising_data.loc[advertising_data[\"Age\"] > 100]"
   ]
  },
  {
   "cell_type": "code",
   "execution_count": 47,
   "metadata": {},
   "outputs": [
    {
     "data": {
      "text/plain": [
       "Int64Index([], dtype='int64')"
      ]
     },
     "execution_count": 47,
     "metadata": {},
     "output_type": "execute_result"
    }
   ],
   "source": [
    "to_drop = advertising_data[advertising_data['Age'] < 0].index\n",
    "\n",
    "to_drop"
   ]
  },
  {
   "cell_type": "code",
   "execution_count": 48,
   "metadata": {},
   "outputs": [
    {
     "data": {
      "text/html": [
       "<div>\n",
       "<style scoped>\n",
       "    .dataframe tbody tr th:only-of-type {\n",
       "        vertical-align: middle;\n",
       "    }\n",
       "\n",
       "    .dataframe tbody tr th {\n",
       "        vertical-align: top;\n",
       "    }\n",
       "\n",
       "    .dataframe thead th {\n",
       "        text-align: right;\n",
       "    }\n",
       "</style>\n",
       "<table border=\"1\" class=\"dataframe\">\n",
       "  <thead>\n",
       "    <tr style=\"text-align: right;\">\n",
       "      <th></th>\n",
       "      <th>Daily Time Spent on Site</th>\n",
       "      <th>Age</th>\n",
       "      <th>Area Income</th>\n",
       "      <th>Daily Internet Usage</th>\n",
       "      <th>Ad Topic Line</th>\n",
       "      <th>City</th>\n",
       "      <th>Male</th>\n",
       "      <th>Country</th>\n",
       "      <th>Timestamp</th>\n",
       "      <th>Clicked on Ad</th>\n",
       "      <th>Scaled_Age</th>\n",
       "    </tr>\n",
       "  </thead>\n",
       "  <tbody>\n",
       "  </tbody>\n",
       "</table>\n",
       "</div>"
      ],
      "text/plain": [
       "Empty DataFrame\n",
       "Columns: [Daily Time Spent on Site, Age, Area Income, Daily Internet Usage, Ad Topic Line, City, Male, Country, Timestamp, Clicked on Ad, Scaled_Age]\n",
       "Index: []"
      ]
     },
     "execution_count": 48,
     "metadata": {},
     "output_type": "execute_result"
    }
   ],
   "source": [
    "advertising_data = advertising_data.drop(to_drop)\n",
    "\n",
    "advertising_data.loc[advertising_data[\"Age\"] < -1]"
   ]
  },
  {
   "cell_type": "markdown",
   "metadata": {},
   "source": [
    "### Set outlier values to the mean\n",
    "\n",
    "If you don't want to lose the information in the records which have age between 80 and 90 you could simply set the age to the mean, this could be because you feel there is information in the other data"
   ]
  },
  {
   "cell_type": "code",
   "execution_count": 51,
   "metadata": {},
   "outputs": [],
   "source": [
    "advertising_data[((advertising_data['Age'] >= 80) & (advertising_data['Age'] <= 90))] = \\\n",
    "    advertising_data[\"Age\"].mean()"
   ]
  },
  {
   "cell_type": "code",
   "execution_count": 52,
   "metadata": {},
   "outputs": [
    {
     "data": {
      "text/plain": [
       "<matplotlib.axes._subplots.AxesSubplot at 0x12253bad0>"
      ]
     },
     "execution_count": 52,
     "metadata": {},
     "output_type": "execute_result"
    },
    {
     "data": {
      "image/png": "[encoded data removed]",
      "text/plain": [
       "<Figure size 720x576 with 1 Axes>"
      ]
     },
     "metadata": {
      "needs_background": "light"
     },
     "output_type": "display_data"
    }
   ],
   "source": [
    "advertising_data.boxplot(figsize = (10, 8),\n",
    "                         fontsize = 15,\n",
    "                         column = [\"Age\"])"
   ]
  },
  {
   "cell_type": "code",
   "execution_count": null,
   "metadata": {},
   "outputs": [],
   "source": []
  }
 ],
 "metadata": {
  "kernelspec": {
   "display_name": "Python 3",
   "language": "python",
   "name": "python3"
  },
  "language_info": {
   "codemirror_mode": {
    "name": "ipython",
    "version": 3
   },
   "file_extension": ".py",
   "mimetype": "text/x-python",
   "name": "python",
   "nbconvert_exporter": "python",
   "pygments_lexer": "ipython3",
   "version": "3.7.4"
  }
 },
 "nbformat": 4,
 "nbformat_minor": 2
}
